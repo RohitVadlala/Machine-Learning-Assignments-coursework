{
 "cells": [
  {
   "cell_type": "markdown",
   "metadata": {
    "id": "w0tyra0NWJvI"
   },
   "source": [
    "### Keras\n",
    "\n",
    "### Wide and Deep Neural Networks on MNIST Dataset\n",
    "# Introduction\n",
    "\n",
    "The MNIST dataset is a standard in machine learning that is used to assess how well algorithms recognize handwritten numbers. This dataset, which consists of 70,000 grayscale pictures of the numbers 0 through 9, has served as a foundation for both basic and in-depth research endeavors in the subject. The MNIST dataset's 28 x 28 pixel images offer a standard format for creating and evaluating image recognition systems.\n",
    "\n",
    "The purpose of this notebook is to investigate the effectiveness of wide and deep neural networks, a complex design that combines the advantages of deep neural networks with broad linear models. The architecture's deep component is skilled in abstracting non-linear patterns, while the wide component enables the model to understand linear correlations. Increased efficiency on challenging activities like visual interpretation may result from this combination.\n",
    "\n",
    "In order to determine their performance on the MNIST dataset, we examine three different broad and deep neural network designs. These configurations will vary with respect to depth, breadth, and general design, allowing us to comprehend the effects of each difference on the model's handwritten digit recognition performance.\n",
    "\n",
    "# Objective\n",
    "\n",
    "The primary objective is to use the MNIST dataset to create, deploy, and assess three deep and broad neural network models. Through adjusting the depth, breadth, and structure of these networks, we will evaluate their accuracy, loss, and generalization capacity. Future model selection and optimization techniques will be guided by the insights gained from this study, which will highlight the advantages and disadvantages of each configuration."
   ]
  },
  {
   "cell_type": "markdown",
   "metadata": {
    "id": "pmAFVhDJXFBb"
   },
   "source": [
    "## Load libraries\n",
    "\n",
    "You will need to have tensorflow installed. It is recommended that you use pip to install this library. \n",
    "\n",
    "```bash\n",
    "pip install tensorflow\n",
    "pip install tensorflow_datasets\n",
    "```"
   ]
  },
  {
   "cell_type": "markdown",
   "metadata": {},
   "source": [
    "> 🧠\n",
    ">  You can control the verbosity of TensorFlow logs by setting the `TF_CPP_MIN_LOG_LEVEL` environment variable.\n",
    "> ```python\n",
    "> # import os\n",
    "> # os.environ['TF_CPP_MIN_LOG_LEVEL'] = '3' # set to 0 to see all logs, 4 to see only errors\n",
    "> ```"
   ]
  },
  {
   "cell_type": "code",
   "execution_count": 39,
   "metadata": {},
   "outputs": [],
   "source": [
    "import os\n",
    "os.environ['TF_CPP_MIN_LOG_LEVEL'] = '4'\n",
    "\n",
    "epoch_num = 50\n"
   ]
  },
  {
   "cell_type": "markdown",
   "metadata": {},
   "source": [
    "TensorFlow is used to build up a machine learning environment, and this code snippet does both of those tasks.\n",
    "\n",
    "Initially, {'4'} is assigned to the environment variable {TF_CPP_MIN_LOG_LEVEL}. This is a TensorFlow-specific configuration that regulates information logging while a program runs. Standard logging levels in TensorFlow normally range from {‘0’} to {‘3’}, where {‘0’} represents all logs (including debug information) and {‘3’} represents just fatal failures. The logging level {'4'} is not officially documented in these levels. Given that {'4'} exceeds the permitted range, it may be meant to silence all logs—including errors—but the actual outcome may differ or revert to the default logging policy. Normally, informational logs, cautions, and errors are suppressed and only fatal messages are displayed by setting this variable to {‘3’}.\n",
    "\n",
    "Secondly, the number of training epochs for a machine learning model is defined by the variable ‘epoch_num’, which is set to 50. An epoch is a single run over the full training dataset in the context of neural network training. When ‘epoch_num’ is set to 50, the neural network will train by iteratively going over the full training dataset fifty times. Determining the number of training iterations a model should get in order for it to efficiently identify patterns in the data is a standard procedure in machine learning.\n"
   ]
  },
  {
   "cell_type": "code",
   "execution_count": 40,
   "metadata": {},
   "outputs": [
    {
     "data": {
      "text/plain": [
       "'2.16.1'"
      ]
     },
     "execution_count": 40,
     "metadata": {},
     "output_type": "execute_result"
    }
   ],
   "source": [
    "import tensorflow as tf\n",
    "from tensorflow import keras  # see https://www.tensorflow.org/install\n",
    "import tensorflow_datasets as tfds # see https://www.tensorflow.org/datasets\n",
    "import matplotlib.pyplot as plt\n",
    "import numpy as np\n",
    "import pandas as pd\n",
    "\n",
    "np.random.seed(1)\n",
    "tf.random.set_seed(1)\n",
    "\n",
    "tf.__version__"
   ]
  },
  {
   "cell_type": "markdown",
   "metadata": {},
   "source": [
    "This code snippet is a preparatory step in a Python script for a machine learning project using TensorFlow, a popular deep learning framework. The script begins by importing necessary libraries and modules: tensorflow is imported with the alias tf, which provides the core functionality of TensorFlow; keras, a high-level neural networks API, is imported from tensorflow, allowing for easy construction, training, and deployment of various types of deep learning models; tensorflow_datasets (aliased as tfds) is used for loading and preprocessing standard datasets in a way that is directly compatible with TensorFlow.\n",
    "\n",
    "Additionally, the script imports matplotlib.pyplot (aliated as plt) and numpy (aliased as np), which are essential for data visualization and numerical operations respectively. pandas (imported as pd) is another crucial library for data manipulation and analysis, commonly used for handling structured data.\n",
    "\n",
    "The script then sets the random seed for numpy and TensorFlow using np.random.seed(1) and tf.random.set_seed(1), respectively. Setting a random seed ensures that the random number generation is consistent across different runs of the script, making the results reproducible. This is important in machine learning experiments where consistent initial conditions are needed to compare the performance of different models or configurations.\n",
    "\n",
    "Finally, tf.__version__ is likely called (although not shown in a print statement here) to display the current version of TensorFlow being used. This can be important for compatibility and debugging purposes, ensuring that the correct TensorFlow version is installed for the specific code being run.\n",
    "\n",
    "Overall, this code block sets up the Python environment with the necessary libraries for a machine learning project, ensures reproducibility through random seed settings, and checks the TensorFlow version to ensure compatibility with the project’s requirements.\n"
   ]
  },
  {
   "cell_type": "code",
   "execution_count": 41,
   "metadata": {
    "scrolled": true
   },
   "outputs": [
    {
     "data": {
      "text/html": [
       "<div>\n",
       "<style scoped>\n",
       "    .dataframe tbody tr th:only-of-type {\n",
       "        vertical-align: middle;\n",
       "    }\n",
       "\n",
       "    .dataframe tbody tr th {\n",
       "        vertical-align: top;\n",
       "    }\n",
       "\n",
       "    .dataframe thead th {\n",
       "        text-align: right;\n",
       "    }\n",
       "</style>\n",
       "<table border=\"1\" class=\"dataframe\">\n",
       "  <thead>\n",
       "    <tr style=\"text-align: right;\">\n",
       "      <th></th>\n",
       "      <th>day</th>\n",
       "      <th>month</th>\n",
       "      <th>year</th>\n",
       "      <th>Temperature</th>\n",
       "      <th>RH</th>\n",
       "      <th>Ws</th>\n",
       "      <th>Rain</th>\n",
       "      <th>FFMC</th>\n",
       "      <th>DMC</th>\n",
       "      <th>DC</th>\n",
       "      <th>ISI</th>\n",
       "      <th>BUI</th>\n",
       "      <th>FWI</th>\n",
       "      <th>Classes</th>\n",
       "    </tr>\n",
       "  </thead>\n",
       "  <tbody>\n",
       "    <tr>\n",
       "      <th>0</th>\n",
       "      <td>1</td>\n",
       "      <td>6</td>\n",
       "      <td>2012</td>\n",
       "      <td>29</td>\n",
       "      <td>57</td>\n",
       "      <td>18</td>\n",
       "      <td>0</td>\n",
       "      <td>65.7</td>\n",
       "      <td>3.4</td>\n",
       "      <td>7.6</td>\n",
       "      <td>1.3</td>\n",
       "      <td>3.4</td>\n",
       "      <td>0.5</td>\n",
       "      <td>not fire</td>\n",
       "    </tr>\n",
       "    <tr>\n",
       "      <th>1</th>\n",
       "      <td>2</td>\n",
       "      <td>6</td>\n",
       "      <td>2012</td>\n",
       "      <td>29</td>\n",
       "      <td>61</td>\n",
       "      <td>13</td>\n",
       "      <td>1.3</td>\n",
       "      <td>64.4</td>\n",
       "      <td>4.1</td>\n",
       "      <td>7.6</td>\n",
       "      <td>1</td>\n",
       "      <td>3.9</td>\n",
       "      <td>0.4</td>\n",
       "      <td>not fire</td>\n",
       "    </tr>\n",
       "    <tr>\n",
       "      <th>2</th>\n",
       "      <td>3</td>\n",
       "      <td>6</td>\n",
       "      <td>2012</td>\n",
       "      <td>26</td>\n",
       "      <td>82</td>\n",
       "      <td>22</td>\n",
       "      <td>13.1</td>\n",
       "      <td>47.1</td>\n",
       "      <td>2.5</td>\n",
       "      <td>7.1</td>\n",
       "      <td>0.3</td>\n",
       "      <td>2.7</td>\n",
       "      <td>0.1</td>\n",
       "      <td>not fire</td>\n",
       "    </tr>\n",
       "    <tr>\n",
       "      <th>3</th>\n",
       "      <td>4</td>\n",
       "      <td>6</td>\n",
       "      <td>2012</td>\n",
       "      <td>25</td>\n",
       "      <td>89</td>\n",
       "      <td>13</td>\n",
       "      <td>2.5</td>\n",
       "      <td>28.6</td>\n",
       "      <td>1.3</td>\n",
       "      <td>6.9</td>\n",
       "      <td>0</td>\n",
       "      <td>1.7</td>\n",
       "      <td>0</td>\n",
       "      <td>not fire</td>\n",
       "    </tr>\n",
       "    <tr>\n",
       "      <th>4</th>\n",
       "      <td>5</td>\n",
       "      <td>6</td>\n",
       "      <td>2012</td>\n",
       "      <td>27</td>\n",
       "      <td>77</td>\n",
       "      <td>16</td>\n",
       "      <td>0</td>\n",
       "      <td>64.8</td>\n",
       "      <td>3</td>\n",
       "      <td>14.2</td>\n",
       "      <td>1.2</td>\n",
       "      <td>3.9</td>\n",
       "      <td>0.5</td>\n",
       "      <td>not fire</td>\n",
       "    </tr>\n",
       "  </tbody>\n",
       "</table>\n",
       "</div>"
      ],
      "text/plain": [
       "  day month  year Temperature  RH  Ws Rain   FFMC  DMC    DC  ISI  BUI  FWI  \\\n",
       "0   1     6  2012          29  57  18     0  65.7  3.4   7.6  1.3  3.4  0.5   \n",
       "1   2     6  2012          29  61  13   1.3  64.4  4.1   7.6    1  3.9  0.4   \n",
       "2   3     6  2012          26  82  22  13.1  47.1  2.5   7.1  0.3  2.7  0.1   \n",
       "3   4     6  2012          25  89  13   2.5  28.6  1.3   6.9    0  1.7    0   \n",
       "4   5     6  2012          27  77  16     0  64.8    3  14.2  1.2  3.9  0.5   \n",
       "\n",
       "     Classes    \n",
       "0  not fire     \n",
       "1  not fire     \n",
       "2  not fire     \n",
       "3  not fire     \n",
       "4  not fire     "
      ]
     },
     "execution_count": 41,
     "metadata": {},
     "output_type": "execute_result"
    }
   ],
   "source": [
    "df = pd.read_csv('C:/Users/vadla/Downloads/algerian+forest+fires+dataset/Algerian_forest_fires_dataset_UPDATE.csv')\n",
    "df.head()"
   ]
  },
  {
   "cell_type": "markdown",
   "metadata": {},
   "source": [
    "In this code snippet, the pandas library, which is commonly used for data manipulation and analysis in Python, is employed to read a CSV (Comma Separated Values) file containing a dataset. The read_csv function of pandas, referenced through the pd alias, is used to load this CSV file into a DataFrame object named df. A DataFrame is a two-dimensional, size-mutable, and potentially heterogeneous tabular data structure with labeled axes (rows and columns) in pandas.\n",
    "\n",
    "After loading the data, the head() method of the DataFrame df is called, which returns the first five rows of the DataFrame by default. This is a common practice used to quickly inspect the first few records of the dataset, giving an overview of the data types, column names, and values contained within the file. This initial glance can help to understand the structure of the data, confirm that the file has been read correctly, and determine if any preprocessing steps (such as cleaning or transforming the data) are necessary before further analysis or model training."
   ]
  },
  {
   "cell_type": "code",
   "execution_count": 42,
   "metadata": {},
   "outputs": [],
   "source": [
    "df.columns = df.columns.str.strip()\n",
    "df = df.drop(['day', 'month', 'year'], axis =1)"
   ]
  },
  {
   "cell_type": "markdown",
   "metadata": {},
   "source": [
    "In this code snippet, two operations are performed on the DataFrame df.\n",
    "\n",
    "First, df.columns = df.columns.str.strip() is executed, which trims leading and trailing whitespace characters from the column names of the DataFrame. This is an important data cleaning step, ensuring that column names are consistent and free of accidental spaces that could lead to errors or confusion when referring to these columns later in the code. The str.strip() method is applied to each column name in the DataFrame, effectively standardizing the column headers for easier access and manipulation.\n",
    "\n",
    "Next, the drop() method is called on df with the parameters ['day', 'month', 'year'] and axis=1. This operation removes the columns named day, month, and year from the DataFrame. The axis=1 argument specifies that columns (not rows) should be dropped. This step is typically done to remove unnecessary or irrelevant features from the dataset before performing further analysis or feeding the data into a machine learning model. By dropping these columns, the dataset is streamlined, possibly because these temporal features are not needed for the specific analysis or model training that will follow.\n",
    "\n",
    "Together, these two lines of code clean and prepare the dataset by standardizing column names and removing unwanted columns, thereby facilitating more efficient and error-free data processing in subsequent steps."
   ]
  },
  {
   "cell_type": "code",
   "execution_count": 43,
   "metadata": {},
   "outputs": [],
   "source": [
    "df.columns = df.columns.str.strip()\n",
    "df['Classes'] = df['Classes'].apply(lambda x: 1 if x == 'fire' else 0)"
   ]
  },
  {
   "cell_type": "markdown",
   "metadata": {},
   "source": [
    "In this code snippet, two operations are performed on a pandas DataFrame named `df`.\n",
    "\n",
    "First, `df.columns = df.columns.str.strip()` trims leading and trailing whitespace from the column names of the DataFrame. This action ensures that column names are consistent and free from accidental spaces, which could lead to errors when accessing these columns in future operations. The `str.strip()` method is used on each column name to remove any whitespace characters from the beginning and end.\n",
    "\n",
    "In the second operation, `df['Classes'] = df['Classes'].apply(lambda x: 1 if x == 'fire' else 0)`, the 'Classes' column of the DataFrame is transformed. The `apply()` function is used to iterate over each entry in the 'Classes' column, applying a lambda function that changes the value to `1` if it is `'fire'` and to `0` otherwise. This operation effectively converts the 'Classes' column from a categorical type with string values to a binary numerical format, which is a common preprocessing step in machine learning for handling categorical data. Such a transformation enables the use of mathematical and statistical methods that require numerical input, facilitating the analysis and modeling processes that may follow.\n",
    "\n",
    "Overall, these steps are essential for data preprocessing, ensuring that column names are properly formatted and that categorical data is converted to a numerical format suitable for further analysis or model training in machine learning tasks."
   ]
  },
  {
   "cell_type": "code",
   "execution_count": 44,
   "metadata": {},
   "outputs": [
    {
     "data": {
      "text/html": [
       "<div>\n",
       "<style scoped>\n",
       "    .dataframe tbody tr th:only-of-type {\n",
       "        vertical-align: middle;\n",
       "    }\n",
       "\n",
       "    .dataframe tbody tr th {\n",
       "        vertical-align: top;\n",
       "    }\n",
       "\n",
       "    .dataframe thead th {\n",
       "        text-align: right;\n",
       "    }\n",
       "</style>\n",
       "<table border=\"1\" class=\"dataframe\">\n",
       "  <thead>\n",
       "    <tr style=\"text-align: right;\">\n",
       "      <th></th>\n",
       "      <th>Temperature</th>\n",
       "      <th>RH</th>\n",
       "      <th>Ws</th>\n",
       "      <th>Rain</th>\n",
       "      <th>FFMC</th>\n",
       "      <th>DMC</th>\n",
       "      <th>DC</th>\n",
       "      <th>ISI</th>\n",
       "      <th>BUI</th>\n",
       "      <th>FWI</th>\n",
       "      <th>Classes</th>\n",
       "    </tr>\n",
       "  </thead>\n",
       "  <tbody>\n",
       "    <tr>\n",
       "      <th>0</th>\n",
       "      <td>29</td>\n",
       "      <td>57</td>\n",
       "      <td>18</td>\n",
       "      <td>0</td>\n",
       "      <td>65.7</td>\n",
       "      <td>3.4</td>\n",
       "      <td>7.6</td>\n",
       "      <td>1.3</td>\n",
       "      <td>3.4</td>\n",
       "      <td>0.5</td>\n",
       "      <td>0</td>\n",
       "    </tr>\n",
       "    <tr>\n",
       "      <th>1</th>\n",
       "      <td>29</td>\n",
       "      <td>61</td>\n",
       "      <td>13</td>\n",
       "      <td>1.3</td>\n",
       "      <td>64.4</td>\n",
       "      <td>4.1</td>\n",
       "      <td>7.6</td>\n",
       "      <td>1</td>\n",
       "      <td>3.9</td>\n",
       "      <td>0.4</td>\n",
       "      <td>0</td>\n",
       "    </tr>\n",
       "    <tr>\n",
       "      <th>2</th>\n",
       "      <td>26</td>\n",
       "      <td>82</td>\n",
       "      <td>22</td>\n",
       "      <td>13.1</td>\n",
       "      <td>47.1</td>\n",
       "      <td>2.5</td>\n",
       "      <td>7.1</td>\n",
       "      <td>0.3</td>\n",
       "      <td>2.7</td>\n",
       "      <td>0.1</td>\n",
       "      <td>0</td>\n",
       "    </tr>\n",
       "    <tr>\n",
       "      <th>3</th>\n",
       "      <td>25</td>\n",
       "      <td>89</td>\n",
       "      <td>13</td>\n",
       "      <td>2.5</td>\n",
       "      <td>28.6</td>\n",
       "      <td>1.3</td>\n",
       "      <td>6.9</td>\n",
       "      <td>0</td>\n",
       "      <td>1.7</td>\n",
       "      <td>0</td>\n",
       "      <td>0</td>\n",
       "    </tr>\n",
       "    <tr>\n",
       "      <th>4</th>\n",
       "      <td>27</td>\n",
       "      <td>77</td>\n",
       "      <td>16</td>\n",
       "      <td>0</td>\n",
       "      <td>64.8</td>\n",
       "      <td>3</td>\n",
       "      <td>14.2</td>\n",
       "      <td>1.2</td>\n",
       "      <td>3.9</td>\n",
       "      <td>0.5</td>\n",
       "      <td>0</td>\n",
       "    </tr>\n",
       "  </tbody>\n",
       "</table>\n",
       "</div>"
      ],
      "text/plain": [
       "  Temperature  RH  Ws  Rain  FFMC  DMC    DC  ISI  BUI  FWI  Classes\n",
       "0          29  57  18     0  65.7  3.4   7.6  1.3  3.4  0.5        0\n",
       "1          29  61  13   1.3  64.4  4.1   7.6    1  3.9  0.4        0\n",
       "2          26  82  22  13.1  47.1  2.5   7.1  0.3  2.7  0.1        0\n",
       "3          25  89  13   2.5  28.6  1.3   6.9    0  1.7    0        0\n",
       "4          27  77  16     0  64.8    3  14.2  1.2  3.9  0.5        0"
      ]
     },
     "execution_count": 44,
     "metadata": {},
     "output_type": "execute_result"
    }
   ],
   "source": [
    "df.head()"
   ]
  },
  {
   "cell_type": "markdown",
   "metadata": {},
   "source": [
    "The code `df.head()` is a method call in pandas, a popular data manipulation library in Python. This method is used on a DataFrame object, here referred to as `df`, which is a common naming convention for DataFrame variables in pandas. The `head()` method returns the first five rows of the DataFrame by default, providing a quick snapshot of the dataset's structure, including the column names and the values in the top rows.\n",
    "\n",
    "This quick glimpse into the DataFrame is invaluable for several reasons:\n",
    "- It allows for an initial inspection of the data to understand its format, including the types of data (numerical, categorical, text, etc.) it contains.\n",
    "- It helps verify that data loading and preprocessing steps (like renaming columns, encoding categorical variables, etc.) were executed correctly.\n",
    "- It provides insight into the range and distribution of values, which can inform further data cleaning and analysis tasks.\n",
    "\n",
    "In summary, `df.head()` is a quick, simple way to view the beginning of the dataset to ensure that the data is in the expected format before moving on to more complex data analysis or machine learning tasks."
   ]
  },
  {
   "cell_type": "code",
   "execution_count": 45,
   "metadata": {},
   "outputs": [
    {
     "data": {
      "text/plain": [
       "Temperature    2\n",
       "RH             2\n",
       "Ws             2\n",
       "Rain           2\n",
       "FFMC           2\n",
       "DMC            2\n",
       "DC             2\n",
       "ISI            2\n",
       "BUI            2\n",
       "FWI            2\n",
       "Classes        0\n",
       "dtype: int64"
      ]
     },
     "execution_count": 45,
     "metadata": {},
     "output_type": "execute_result"
    }
   ],
   "source": [
    "df.isnull().sum()"
   ]
  },
  {
   "cell_type": "markdown",
   "metadata": {},
   "source": [
    "The output of `df.isnull().sum()` provides a count of missing values (null or NaN) in each column of the DataFrame `df`. From the provided result, each of the columns—'Temperature', 'RH', 'Ws', 'Rain', 'FFMC', 'DMC', 'DC', 'ISI', 'BUI', and 'FWI'—has 2 missing values. The 'Classes' column has no missing values, as indicated by the count of 0.\n",
    "\n",
    "This information is critical in the data preprocessing stage of a data analysis or machine learning workflow. It indicates that most of the dataset's features have missing entries that need to be addressed before further analysis. Handling these missing values could involve strategies such as imputation (where missing values are filled in with a statistical estimate like the mean, median, or mode of the column), or removal of rows or columns with missing values, depending on the amount of missing data and the specific requirements of the analysis or modeling task.\n",
    "\n",
    "In summary, this result highlights the presence of missing data in the dataset and necessitates appropriate data cleaning or preprocessing steps to ensure the integrity and reliability of any subsequent analysis or model training."
   ]
  },
  {
   "cell_type": "code",
   "execution_count": 46,
   "metadata": {},
   "outputs": [],
   "source": [
    "df = df.dropna()"
   ]
  },
  {
   "cell_type": "markdown",
   "metadata": {},
   "source": [
    "The code `df = df.dropna()` is used to modify the DataFrame `df` by removing any rows that contain missing values (represented as `NaN` in pandas). The `dropna()` method in pandas is a function that filters out or deletes any row in the DataFrame that has at least one `NaN` value.\n",
    "\n",
    "Here’s what happens in this operation:\n",
    "\n",
    "- `dropna()`: This method scans through the DataFrame `df` and identifies any rows that contain missing values in any of their columns.\n",
    "- The result of `df.dropna()` is a new DataFrame with all such rows removed. This DataFrame contains only the rows that have complete data in all columns.\n",
    "- `df =`: The original DataFrame `df` is then overwritten with this new DataFrame. This assignment ensures that the DataFrame `df` no longer contains any of the rows with missing values that were present before.\n",
    "\n",
    "By performing this operation, the dataset is effectively cleaned of rows with incomplete data, which can be essential for maintaining data quality and ensuring accurate results in data analysis or machine learning tasks. However, this method should be used with caution because it can result in a significant reduction of the dataset size if many rows have missing values."
   ]
  },
  {
   "cell_type": "code",
   "execution_count": 47,
   "metadata": {},
   "outputs": [
    {
     "data": {
      "text/plain": [
       "0    241\n",
       "1      4\n",
       "Name: Classes, dtype: int64"
      ]
     },
     "execution_count": 47,
     "metadata": {},
     "output_type": "execute_result"
    }
   ],
   "source": [
    "df.Classes.value_counts().sort_values(ascending=False)"
   ]
  },
  {
   "cell_type": "markdown",
   "metadata": {},
   "source": [
    "The output of `df.Classes.value_counts().sort_values(ascending=False)` provides a sorted count of unique values in the 'Classes' column of the DataFrame `df`. In this context, the 'Classes' column appears to represent a binary classification, where `0` and `1` are the possible classes.\n",
    "\n",
    "Here's the breakdown of the output:\n",
    "\n",
    "- `value_counts()`: This method is applied to the 'Classes' column of `df` and counts the number of occurrences of each unique value in the column. It returns a Series where the index represents the unique values found in the 'Classes' column, and the corresponding values represent the count of those occurrences.\n",
    "- `sort_values(ascending=False)`: This method is chained to `value_counts()` and sorts the counts in descending order, meaning the most frequent class appears first.\n",
    "\n",
    "The result shows that there are 241 occurrences of the class labeled `0` and only 4 occurrences of the class labeled `1`. This indicates a significant class imbalance in the dataset, where the majority class (`0`) vastly outnumbers the minority class (`1`).\n",
    "\n",
    "Understanding the distribution of classes is crucial in machine learning, especially in classification tasks. A significant imbalance, as seen here, may require special handling techniques such as oversampling the minority class, undersampling the majority class, or employing specialized algorithms to ensure that the model does not become biased towards the majority class."
   ]
  },
  {
   "cell_type": "code",
   "execution_count": 48,
   "metadata": {},
   "outputs": [
    {
     "name": "stdout",
     "output_type": "stream",
     "text": [
      "    Temperature  RH  Ws Rain  FFMC   DMC     DC   ISI   BUI   FWI  Classes\n",
      "0            36  53  16    0  89.5  37.6  161.5  10.4  47.5  22.3        1\n",
      "1            36  53  16    0  89.5  37.6  161.5  10.4  47.5  22.3        1\n",
      "2            40  34  14    0  93.3  10.8   21.4  13.8  10.6  13.5        0\n",
      "3            33  82  21    0  84.9    47  200.2   4.4  59.3  13.2        1\n",
      "4            28  84  18    0  83.8  13.5   49.3   4.5    16   6.3        1\n",
      "..          ...  ..  ..  ...   ...   ...    ...   ...   ...   ...      ...\n",
      "477          32  49  11    0  89.4   9.8   33.1   6.8  11.3   7.7        0\n",
      "478          33  82  21    0  84.9    47  200.2   4.4  59.3  13.2        1\n",
      "479          33  82  21    0  84.9    47  200.2   4.4  59.3  13.2        1\n",
      "480          36  53  16    0  89.5  37.6  161.5  10.4  47.5  22.3        1\n",
      "481          22  76  26  8.3  47.4   1.1      7   0.4   1.6   0.1        0\n",
      "\n",
      "[482 rows x 11 columns]\n"
     ]
    }
   ],
   "source": [
    "from sklearn.utils import resample\n",
    "\n",
    "# Minority class label\n",
    "minority_class_label = 1\n",
    "\n",
    "# Separate majority and minority classes\n",
    "df_majority = df[df['Classes'] == 0]\n",
    "df_minority = df[df['Classes'] == minority_class_label]\n",
    "\n",
    "# Upsample minority class\n",
    "df_minority_upsampled = resample(df_minority, \n",
    "                                 replace=True,     # Sample with replacement\n",
    "                                 n_samples=len(df_majority),  # Match number in majority class\n",
    "                                 random_state=1)  # Reproducible results\n",
    "\n",
    "# Combine majority class with upsampled minority class\n",
    "df_upsampled = pd.concat([df_majority, df_minority_upsampled])\n",
    "\n",
    "# Shuffle the DataFrame\n",
    "df_upsampled = df_upsampled.sample(frac=1, random_state=42).reset_index(drop=True)\n",
    "\n",
    "# Display the balanced DataFrame\n",
    "print(df_upsampled)"
   ]
  },
  {
   "cell_type": "markdown",
   "metadata": {},
   "source": [
    "This code snippet demonstrates the process of upsampling the minority class in a dataset to address class imbalance, using the `resample` function from `sklearn.utils`.\n",
    "\n",
    "- Initially, it identifies the minority class label (1 in this case) and separates the dataset into two parts based on class labels: `df_majority` for the majority class (0) and `df_minority` for the minority class (1).\n",
    "\n",
    "- The `resample` function is then employed to upsample the minority class data (`df_minority`). The parameters `replace=True` and `n_samples=len(df_majority)` ensure that sampling is done with replacement to match the number of samples in the majority class, thus balancing the class distribution. `random_state=1` is used to guarantee reproducible results across different runs.\n",
    "\n",
    "- After upsampling, the upsampled minority data (`df_minority_upsampled`) is concatenated with the majority class data (`df_majority`) to form a new balanced DataFrame `df_upsampled`.\n",
    "\n",
    "- The balanced DataFrame is then shuffled using the `sample` method with `frac=1` (indicating 100% of the data should be sampled) and `random_state=42` for reproducibility. This shuffling is crucial to ensure that the data order is random, which can be beneficial for subsequent machine learning processes.\n",
    "\n",
    "- Finally, the balanced and shuffled DataFrame `df_upsampled` is displayed, showing a mix of the original majority class and the upsampled minority class entries. This results in a balanced class distribution, which is essential for training machine learning models without the bias towards the majority class.\n",
    "\n",
    "The output snippet shows a sample of this new balanced DataFrame with an equal number of instances from both classes, demonstrating successful class balancing through upsampling."
   ]
  },
  {
   "cell_type": "code",
   "execution_count": 49,
   "metadata": {},
   "outputs": [
    {
     "data": {
      "text/plain": [
       "1    241\n",
       "0    241\n",
       "Name: Classes, dtype: int64"
      ]
     },
     "execution_count": 49,
     "metadata": {},
     "output_type": "execute_result"
    }
   ],
   "source": [
    "df_upsampled.Classes.value_counts().sort_values(ascending=False)"
   ]
  },
  {
   "cell_type": "markdown",
   "metadata": {},
   "source": [
    "The output of `df_upsampled.Classes.value_counts().sort_values(ascending=False)` shows the distribution of class labels in the `df_upsampled` DataFrame after upsampling the minority class. The method `value_counts()` is used on the 'Classes' column to count the occurrences of each unique class label, and `sort_values(ascending=False)` sorts these counts in descending order.\n",
    "\n",
    "From the result, we see that both classes `1` and `0` now have an equal count of `241`. This indicates that the upsampling process was successful in balancing the class distribution, ensuring that both the minority and majority classes are represented equally in the dataset. \n",
    "\n",
    "Balancing the classes is crucial in machine learning to prevent the model from being biased towards the majority class. In the original dataset, class `1` was underrepresented compared to class `0`. By upsampling the minority class (`1`), we have created a balanced dataset where each class has the same number of samples, thereby allowing the model to learn from an equal representation of both classes. This balanced dataset is more likely to lead to better generalization and fairer performance across the classes when used to train machine learning models."
   ]
  },
  {
   "cell_type": "code",
   "execution_count": 50,
   "metadata": {},
   "outputs": [],
   "source": [
    "# Convert non-numeric columns to numeric, coerce errors to NaN\n",
    "for column in df_upsampled.columns:\n",
    "    df_upsampled[column] = pd.to_numeric(df_upsampled[column], errors='coerce')\n"
   ]
  },
  {
   "cell_type": "markdown",
   "metadata": {},
   "source": [
    "In this code snippet, a for-loop iterates through each column of the DataFrame `df_upsampled`. For every column, it attempts to convert the column's values to numeric types using the `pd.to_numeric()` function from pandas. The argument `errors='coerce'` is used, which means that if a value cannot be converted to a numeric type (e.g., because it is a text string that doesn't represent a number), it will be replaced with `NaN` (which stands for \"Not a Number\").\n",
    "\n",
    "This conversion is crucial in data preprocessing, especially when preparing data for machine learning models, as these models require numerical input. By converting all columns to numeric where possible, the dataset becomes more uniform and suitable for analytical processes and model training.\n",
    "\n",
    "- `for column in df_upsampled.columns`: This loop goes through each column in the `df_upsampled` DataFrame.\n",
    "- `pd.to_numeric(df_upsampled[column], errors='coerce')`: This function tries to convert each value in the column to a numeric type. If a value cannot be converted (like a string of text without numerical meaning), it becomes `NaN`, thanks to the `errors='coerce'` parameter.\n",
    "\n",
    "After running this loop, `df_upsampled` will have all its columns in a numeric format or `NaN` for values that couldn’t be converted, ensuring that the data is in a format amenable to numerical analysis and modeling."
   ]
  },
  {
   "cell_type": "code",
   "execution_count": 51,
   "metadata": {},
   "outputs": [],
   "source": [
    "X = df_upsampled.drop(columns=['Classes'])\n",
    "y = df_upsampled['Classes']\n",
    "from sklearn.model_selection import train_test_split\n",
    "\n",
    "X_train, X_test, y_train, y_test = train_test_split(X, y, test_size=0.3, random_state=1)"
   ]
  },
  {
   "cell_type": "markdown",
   "metadata": {},
   "source": [
    "In this code snippet, the dataset `df_upsampled` is being prepared for a machine learning task by separating it into features (`X`) and the target variable (`y`), followed by splitting these into training and testing sets.\n",
    "\n",
    "1. `X = df_upsampled.drop(columns=['Classes'])`: This line creates the feature set `X` by removing the 'Classes' column from `df_upsampled`. The `drop(columns=['Classes'])` method eliminates the specified column, as it is the target variable for a classification task and should not be included in the features.\n",
    "\n",
    "2. `y = df_upsampled['Classes']`: This line extracts the target variable `y` from the `df_upsampled` DataFrame, which contains the class labels that the machine learning model will predict.\n",
    "\n",
    "3. The `train_test_split` function from `sklearn.model_selection` is then used to divide `X` and `y` into training and testing sets. The `test_size=0.3` parameter indicates that 30% of the data will be set aside for the test set, while the remaining 70% will be used for training the model. The `random_state=1` parameter ensures that the split is reproducible; that is, the same split will occur each time the code is run, which is important for replicating results and ensuring consistency in evaluations.\n",
    "\n",
    "The output of the `train_test_split` function are four subsets:\n",
    "- `X_train` and `y_train`: These are the features and labels used for training the model.\n",
    "- `X_test` and `y_test`: These are the features and labels used for testing the model's performance after it has been trained.\n",
    "\n",
    "This process is a standard practice in supervised learning to evaluate the model's performance on unseen data, ensuring that it generalizes well and is not overfitting to the training data."
   ]
  },
  {
   "cell_type": "code",
   "execution_count": 52,
   "metadata": {},
   "outputs": [
    {
     "name": "stdout",
     "output_type": "stream",
     "text": [
      "337 (337, 10)\n",
      "337 (337,)\n",
      "145 (145, 10)\n",
      "145 (145,)\n"
     ]
    }
   ],
   "source": [
    "print(len(X_train), X_train.shape)\n",
    "print(len(y_train), y_train.shape)\n",
    "print(len(X_test), X_test.shape)\n",
    "print(len(y_test), y_test.shape)"
   ]
  },
  {
   "cell_type": "markdown",
   "metadata": {},
   "source": [
    "The provided code snippet outputs the lengths and shapes of the training and testing datasets created from the `df_upsampled` DataFrame. Here's what each line signifies:\n",
    "\n",
    "- `len(X_train), X_train.shape`: This prints the number of rows (`337`) and the shape of `X_train` (`337, 10`), indicating that the training feature set contains 337 samples with 10 features each.\n",
    "- `len(y_train), y_train.shape`: This prints the length (`337`) and shape of `y_train` (`337,`), showing that there are 337 target values in the training set, which corresponds one-to-one with the rows in `X_train`.\n",
    "- `len(X_test), X_test.shape`: This displays the number of rows (`145`) and the shape of `X_test` (`145, 10`), revealing that the testing feature set consists of 145 samples, each with 10 features, which is 30% of the total data as specified by the `test_size` parameter during the split.\n",
    "- `len(y_test), y_test.shape`: This shows the length (`145`) and shape of `y_test` (`145,`), indicating that the testing set contains 145 target values, matching the number of samples in `X_test`.\n",
    "\n",
    "The output confirms that the dataset was successfully split into training and testing sets, maintaining a consistent correspondence between the features and target values in both sets. The training set comprises 70% of the data (337 samples), and the testing set comprises 30% (145 samples), adhering to the proportions specified in the `train_test_split` function. This structured separation is crucial for training the model on one set of data and then evaluating its performance on a separate set that it has not seen before, which is a fundamental practice in machine learning to assess the generalizability of the model."
   ]
  },
  {
   "cell_type": "code",
   "execution_count": 53,
   "metadata": {},
   "outputs": [
    {
     "data": {
      "text/plain": [
       "(pandas.core.frame.DataFrame,\n",
       " pandas.core.series.Series,\n",
       " pandas.core.frame.DataFrame,\n",
       " pandas.core.series.Series)"
      ]
     },
     "execution_count": 53,
     "metadata": {},
     "output_type": "execute_result"
    }
   ],
   "source": [
    "type(X_train), type(y_train), type(X_test), type(y_test)"
   ]
  },
  {
   "cell_type": "markdown",
   "metadata": {},
   "source": [
    "The output indicates the data types of the variables `X_train`, `y_train`, `X_test`, and `y_test`, which are part of the data preparation process in a machine learning workflow.\n",
    "\n",
    "- `type(X_train)` and `type(X_test)` return `pandas.core.frame.DataFrame`, indicating that both `X_train` and `X_test` are pandas DataFrame objects. DataFrames are two-dimensional labeled data structures with columns of potentially different types, commonly used in pandas for data manipulation and analysis. In this context, `X_train` and `X_test` represent the feature sets for training and testing the machine learning model, respectively, each containing multiple columns of features.\n",
    "\n",
    "- `type(y_train)` and `type(y_test)` return `pandas.core.series.Series`, showing that both `y_train` and `y_test` are pandas Series objects. A Series is a one-dimensional labeled array capable of holding any data type in pandas. Here, `y_train` and `y_test` represent the target variable sets for training and testing the model, respectively, with each containing a single column of labels corresponding to the outcomes or classes to predict.\n",
    "\n",
    "This differentiation in types is typical in machine learning data preparation: features are often represented as DataFrames because they usually consist of multiple columns of data, while target variables are represented as Series because they are typically single columns of labels or values."
   ]
  },
  {
   "cell_type": "markdown",
   "metadata": {},
   "source": [
    "## Deep Network"
   ]
  },
  {
   "cell_type": "code",
   "execution_count": 54,
   "metadata": {},
   "outputs": [
    {
     "data": {
      "text/plain": [
       "(337, 10)"
      ]
     },
     "execution_count": 54,
     "metadata": {},
     "output_type": "execute_result"
    }
   ],
   "source": [
    "X_train.shape"
   ]
  },
  {
   "cell_type": "markdown",
   "metadata": {},
   "source": [
    "The expression `X_train.shape` returns the shape of the `X_train` DataFrame, which is `(337, 10)`. This output indicates that `X_train` has 337 rows and 10 columns.\n",
    "\n",
    "- The first number, `337`, represents the total number of samples or records in the training set. These are the instances on which the machine learning model will be trained.\n",
    "- The second number, `10`, denotes the total number of features or attributes in each sample that the model will use to learn and make predictions.\n",
    "\n",
    "This shape information is crucial for understanding the structure of the dataset being used to train the machine learning model, ensuring that the data has been split correctly and that the model will receive the appropriate input during training."
   ]
  },
  {
   "cell_type": "code",
   "execution_count": 55,
   "metadata": {},
   "outputs": [
    {
     "name": "stderr",
     "output_type": "stream",
     "text": [
      "C:\\Users\\vadla\\anaconda3\\Lib\\site-packages\\keras\\src\\layers\\reshaping\\flatten.py:37: UserWarning: Do not pass an `input_shape`/`input_dim` argument to a layer. When using Sequential models, prefer using an `Input(shape)` object as the first layer in the model instead.\n",
      "  super().__init__(**kwargs)\n"
     ]
    },
    {
     "data": {
      "text/html": [
       "<pre style=\"white-space:pre;overflow-x:auto;line-height:normal;font-family:Menlo,'DejaVu Sans Mono',consolas,'Courier New',monospace\"><span style=\"font-weight: bold\">Model: \"sequential_1\"</span>\n",
       "</pre>\n"
      ],
      "text/plain": [
       "\u001b[1mModel: \"sequential_1\"\u001b[0m\n"
      ]
     },
     "metadata": {},
     "output_type": "display_data"
    },
    {
     "data": {
      "text/html": [
       "<pre style=\"white-space:pre;overflow-x:auto;line-height:normal;font-family:Menlo,'DejaVu Sans Mono',consolas,'Courier New',monospace\">┏━━━━━━━━━━━━━━━━━━━━━━━━━━━━━━━━━┳━━━━━━━━━━━━━━━━━━━━━━━━┳━━━━━━━━━━━━━━━┓\n",
       "┃<span style=\"font-weight: bold\"> Layer (type)                    </span>┃<span style=\"font-weight: bold\"> Output Shape           </span>┃<span style=\"font-weight: bold\">       Param # </span>┃\n",
       "┡━━━━━━━━━━━━━━━━━━━━━━━━━━━━━━━━━╇━━━━━━━━━━━━━━━━━━━━━━━━╇━━━━━━━━━━━━━━━┩\n",
       "│ flatten_2 (<span style=\"color: #0087ff; text-decoration-color: #0087ff\">Flatten</span>)             │ (<span style=\"color: #00d7ff; text-decoration-color: #00d7ff\">None</span>, <span style=\"color: #00af00; text-decoration-color: #00af00\">10</span>)             │             <span style=\"color: #00af00; text-decoration-color: #00af00\">0</span> │\n",
       "├─────────────────────────────────┼────────────────────────┼───────────────┤\n",
       "│ dense_12 (<span style=\"color: #0087ff; text-decoration-color: #0087ff\">Dense</span>)                │ (<span style=\"color: #00d7ff; text-decoration-color: #00d7ff\">None</span>, <span style=\"color: #00af00; text-decoration-color: #00af00\">10</span>)             │           <span style=\"color: #00af00; text-decoration-color: #00af00\">110</span> │\n",
       "├─────────────────────────────────┼────────────────────────┼───────────────┤\n",
       "│ dense_13 (<span style=\"color: #0087ff; text-decoration-color: #0087ff\">Dense</span>)                │ (<span style=\"color: #00d7ff; text-decoration-color: #00d7ff\">None</span>, <span style=\"color: #00af00; text-decoration-color: #00af00\">64</span>)             │           <span style=\"color: #00af00; text-decoration-color: #00af00\">704</span> │\n",
       "├─────────────────────────────────┼────────────────────────┼───────────────┤\n",
       "│ dense_14 (<span style=\"color: #0087ff; text-decoration-color: #0087ff\">Dense</span>)                │ (<span style=\"color: #00d7ff; text-decoration-color: #00d7ff\">None</span>, <span style=\"color: #00af00; text-decoration-color: #00af00\">64</span>)             │         <span style=\"color: #00af00; text-decoration-color: #00af00\">4,160</span> │\n",
       "├─────────────────────────────────┼────────────────────────┼───────────────┤\n",
       "│ dense_15 (<span style=\"color: #0087ff; text-decoration-color: #0087ff\">Dense</span>)                │ (<span style=\"color: #00d7ff; text-decoration-color: #00d7ff\">None</span>, <span style=\"color: #00af00; text-decoration-color: #00af00\">1</span>)              │            <span style=\"color: #00af00; text-decoration-color: #00af00\">65</span> │\n",
       "└─────────────────────────────────┴────────────────────────┴───────────────┘\n",
       "</pre>\n"
      ],
      "text/plain": [
       "┏━━━━━━━━━━━━━━━━━━━━━━━━━━━━━━━━━┳━━━━━━━━━━━━━━━━━━━━━━━━┳━━━━━━━━━━━━━━━┓\n",
       "┃\u001b[1m \u001b[0m\u001b[1mLayer (type)                   \u001b[0m\u001b[1m \u001b[0m┃\u001b[1m \u001b[0m\u001b[1mOutput Shape          \u001b[0m\u001b[1m \u001b[0m┃\u001b[1m \u001b[0m\u001b[1m      Param #\u001b[0m\u001b[1m \u001b[0m┃\n",
       "┡━━━━━━━━━━━━━━━━━━━━━━━━━━━━━━━━━╇━━━━━━━━━━━━━━━━━━━━━━━━╇━━━━━━━━━━━━━━━┩\n",
       "│ flatten_2 (\u001b[38;5;33mFlatten\u001b[0m)             │ (\u001b[38;5;45mNone\u001b[0m, \u001b[38;5;34m10\u001b[0m)             │             \u001b[38;5;34m0\u001b[0m │\n",
       "├─────────────────────────────────┼────────────────────────┼───────────────┤\n",
       "│ dense_12 (\u001b[38;5;33mDense\u001b[0m)                │ (\u001b[38;5;45mNone\u001b[0m, \u001b[38;5;34m10\u001b[0m)             │           \u001b[38;5;34m110\u001b[0m │\n",
       "├─────────────────────────────────┼────────────────────────┼───────────────┤\n",
       "│ dense_13 (\u001b[38;5;33mDense\u001b[0m)                │ (\u001b[38;5;45mNone\u001b[0m, \u001b[38;5;34m64\u001b[0m)             │           \u001b[38;5;34m704\u001b[0m │\n",
       "├─────────────────────────────────┼────────────────────────┼───────────────┤\n",
       "│ dense_14 (\u001b[38;5;33mDense\u001b[0m)                │ (\u001b[38;5;45mNone\u001b[0m, \u001b[38;5;34m64\u001b[0m)             │         \u001b[38;5;34m4,160\u001b[0m │\n",
       "├─────────────────────────────────┼────────────────────────┼───────────────┤\n",
       "│ dense_15 (\u001b[38;5;33mDense\u001b[0m)                │ (\u001b[38;5;45mNone\u001b[0m, \u001b[38;5;34m1\u001b[0m)              │            \u001b[38;5;34m65\u001b[0m │\n",
       "└─────────────────────────────────┴────────────────────────┴───────────────┘\n"
      ]
     },
     "metadata": {},
     "output_type": "display_data"
    },
    {
     "data": {
      "text/html": [
       "<pre style=\"white-space:pre;overflow-x:auto;line-height:normal;font-family:Menlo,'DejaVu Sans Mono',consolas,'Courier New',monospace\"><span style=\"font-weight: bold\"> Total params: </span><span style=\"color: #00af00; text-decoration-color: #00af00\">5,039</span> (19.68 KB)\n",
       "</pre>\n"
      ],
      "text/plain": [
       "\u001b[1m Total params: \u001b[0m\u001b[38;5;34m5,039\u001b[0m (19.68 KB)\n"
      ]
     },
     "metadata": {},
     "output_type": "display_data"
    },
    {
     "data": {
      "text/html": [
       "<pre style=\"white-space:pre;overflow-x:auto;line-height:normal;font-family:Menlo,'DejaVu Sans Mono',consolas,'Courier New',monospace\"><span style=\"font-weight: bold\"> Trainable params: </span><span style=\"color: #00af00; text-decoration-color: #00af00\">5,039</span> (19.68 KB)\n",
       "</pre>\n"
      ],
      "text/plain": [
       "\u001b[1m Trainable params: \u001b[0m\u001b[38;5;34m5,039\u001b[0m (19.68 KB)\n"
      ]
     },
     "metadata": {},
     "output_type": "display_data"
    },
    {
     "data": {
      "text/html": [
       "<pre style=\"white-space:pre;overflow-x:auto;line-height:normal;font-family:Menlo,'DejaVu Sans Mono',consolas,'Courier New',monospace\"><span style=\"font-weight: bold\"> Non-trainable params: </span><span style=\"color: #00af00; text-decoration-color: #00af00\">0</span> (0.00 B)\n",
       "</pre>\n"
      ],
      "text/plain": [
       "\u001b[1m Non-trainable params: \u001b[0m\u001b[38;5;34m0\u001b[0m (0.00 B)\n"
      ]
     },
     "metadata": {},
     "output_type": "display_data"
    }
   ],
   "source": [
    "import tensorflow.keras as keras\n",
    "\n",
    "# create model structure\n",
    "binary_model = keras.models.Sequential()\n",
    "binary_model.add(keras.layers.Flatten(input_shape=X_train.shape[1:]))\n",
    "binary_model.add(keras.layers.Dense(10, activation='relu'))\n",
    "binary_model.add(keras.layers.Dense(64, activation='relu'))\n",
    "binary_model.add(keras.layers.Dense(64, activation='relu'))\n",
    "binary_model.add(keras.layers.Dense(1, activation='sigmoid'))  # final layer, single neuron with sigmoid activation\n",
    "\n",
    "# compile\n",
    "binary_model.compile(loss='binary_crossentropy', optimizer='adam', metrics=['accuracy'])\n",
    "\n",
    "# summary\n",
    "binary_model.summary()\n"
   ]
  },
  {
   "cell_type": "markdown",
   "metadata": {},
   "source": [
    "In this code snippet, a binary classification model named `binary_model` is constructed using the TensorFlow Keras API, which is a high-level neural networks library.\n",
    "\n",
    "- The model is instantiated as a `Sequential` model, indicating that the layers are to be added in sequence. This type of model is straightforward and appropriate for a stack of layers where each layer has exactly one input tensor and one output tensor.\n",
    "\n",
    "- The first layer in the model is a `Flatten` layer, which transforms its input into a one-dimensional array. The `input_shape` parameter is set to `X_train.shape[1:]`, meaning it automatically adopts the shape of the training data features, ignoring the batch size (number of samples). This is necessary to prepare the input data for the dense layers that follow.\n",
    "\n",
    "- Following the `Flatten` layer, there are three `Dense` layers with the `relu` (rectified linear unit) activation function. The first `Dense` layer has 10 neurons, the second and third have 64 neurons each. `Dense` layers are fully connected layers, meaning each neuron in a layer receives input from all neurons of the previous layer, which are common in feedforward neural networks. The `relu` activation function is used to introduce non-linearity into the model, allowing it to learn more complex patterns in the data.\n",
    "\n",
    "- The final layer is another `Dense` layer with a single neuron and a `sigmoid` activation function, which is typical for binary classification tasks. The `sigmoid` function outputs a value between 0 and 1, representing the probability that the given input point belongs to a certain class, in this case, `1`.\n",
    "\n",
    "- The model is compiled with the `binary_crossentropy` loss function, which is suitable for binary classification problems. The `adam` optimizer is used, which is an adaptive learning rate optimization algorithm that's popular in training deep learning models.\n",
    "\n",
    "- The `metrics=['accuracy']` argument in the `compile` method specifies that the model's performance should be evaluated based on its accuracy, the fraction of correctly classified instances.\n",
    "\n",
    "- The `summary()` method prints a summary representation of the model, showing the layers and their types, the output shape of each layer, and the number of parameters (weights and biases) that will be learned during training. In this summary, we see the model has a total of 5,039 trainable parameters.\n",
    "\n",
    "The warning message suggests that instead of using `input_shape` in the `Flatten` layer, one should define the input shape using an `Input` layer at the start of the model. This is a more flexible and recommended way to specify input data dimensions in complex models."
   ]
  },
  {
   "cell_type": "code",
   "execution_count": 56,
   "metadata": {},
   "outputs": [
    {
     "name": "stdout",
     "output_type": "stream",
     "text": [
      "Epoch 1/10\n",
      "\u001b[1m17/17\u001b[0m \u001b[32m━━━━━━━━━━━━━━━━━━━━\u001b[0m\u001b[37m\u001b[0m \u001b[1m4s\u001b[0m 33ms/step - accuracy: 0.4861 - loss: 4.5536 - val_accuracy: 0.7448 - val_loss: 0.5734\n",
      "Epoch 2/10\n",
      "\u001b[1m17/17\u001b[0m \u001b[32m━━━━━━━━━━━━━━━━━━━━\u001b[0m\u001b[37m\u001b[0m \u001b[1m0s\u001b[0m 7ms/step - accuracy: 0.7623 - loss: 0.6828 - val_accuracy: 0.8138 - val_loss: 0.3966\n",
      "Epoch 3/10\n",
      "\u001b[1m17/17\u001b[0m \u001b[32m━━━━━━━━━━━━━━━━━━━━\u001b[0m\u001b[37m\u001b[0m \u001b[1m0s\u001b[0m 6ms/step - accuracy: 0.7737 - loss: 0.4500 - val_accuracy: 0.9724 - val_loss: 0.2988\n",
      "Epoch 4/10\n",
      "\u001b[1m17/17\u001b[0m \u001b[32m━━━━━━━━━━━━━━━━━━━━\u001b[0m\u001b[37m\u001b[0m \u001b[1m0s\u001b[0m 7ms/step - accuracy: 0.8963 - loss: 0.3274 - val_accuracy: 0.9793 - val_loss: 0.2149\n",
      "Epoch 5/10\n",
      "\u001b[1m17/17\u001b[0m \u001b[32m━━━━━━━━━━━━━━━━━━━━\u001b[0m\u001b[37m\u001b[0m \u001b[1m0s\u001b[0m 8ms/step - accuracy: 0.9473 - loss: 0.2576 - val_accuracy: 0.9862 - val_loss: 0.1731\n",
      "Epoch 6/10\n",
      "\u001b[1m17/17\u001b[0m \u001b[32m━━━━━━━━━━━━━━━━━━━━\u001b[0m\u001b[37m\u001b[0m \u001b[1m0s\u001b[0m 6ms/step - accuracy: 0.9441 - loss: 0.2292 - val_accuracy: 0.9862 - val_loss: 0.1420\n",
      "Epoch 7/10\n",
      "\u001b[1m17/17\u001b[0m \u001b[32m━━━━━━━━━━━━━━━━━━━━\u001b[0m\u001b[37m\u001b[0m \u001b[1m0s\u001b[0m 7ms/step - accuracy: 0.9422 - loss: 0.1998 - val_accuracy: 0.9862 - val_loss: 0.1277\n",
      "Epoch 8/10\n",
      "\u001b[1m17/17\u001b[0m \u001b[32m━━━━━━━━━━━━━━━━━━━━\u001b[0m\u001b[37m\u001b[0m \u001b[1m0s\u001b[0m 5ms/step - accuracy: 0.9491 - loss: 0.1797 - val_accuracy: 0.9862 - val_loss: 0.1099\n",
      "Epoch 9/10\n",
      "\u001b[1m17/17\u001b[0m \u001b[32m━━━━━━━━━━━━━━━━━━━━\u001b[0m\u001b[37m\u001b[0m \u001b[1m0s\u001b[0m 6ms/step - accuracy: 0.9547 - loss: 0.1595 - val_accuracy: 0.9862 - val_loss: 0.0920\n",
      "Epoch 10/10\n",
      "\u001b[1m17/17\u001b[0m \u001b[32m━━━━━━━━━━━━━━━━━━━━\u001b[0m\u001b[37m\u001b[0m \u001b[1m0s\u001b[0m 6ms/step - accuracy: 0.9593 - loss: 0.1397 - val_accuracy: 0.9862 - val_loss: 0.0813\n"
     ]
    },
    {
     "data": {
      "text/html": [
       "<pre style=\"white-space:pre;overflow-x:auto;line-height:normal;font-family:Menlo,'DejaVu Sans Mono',consolas,'Courier New',monospace\"><span style=\"font-weight: bold\">Model: \"sequential_1\"</span>\n",
       "</pre>\n"
      ],
      "text/plain": [
       "\u001b[1mModel: \"sequential_1\"\u001b[0m\n"
      ]
     },
     "metadata": {},
     "output_type": "display_data"
    },
    {
     "data": {
      "text/html": [
       "<pre style=\"white-space:pre;overflow-x:auto;line-height:normal;font-family:Menlo,'DejaVu Sans Mono',consolas,'Courier New',monospace\">┏━━━━━━━━━━━━━━━━━━━━━━━━━━━━━━━━━┳━━━━━━━━━━━━━━━━━━━━━━━━┳━━━━━━━━━━━━━━━┓\n",
       "┃<span style=\"font-weight: bold\"> Layer (type)                    </span>┃<span style=\"font-weight: bold\"> Output Shape           </span>┃<span style=\"font-weight: bold\">       Param # </span>┃\n",
       "┡━━━━━━━━━━━━━━━━━━━━━━━━━━━━━━━━━╇━━━━━━━━━━━━━━━━━━━━━━━━╇━━━━━━━━━━━━━━━┩\n",
       "│ flatten_2 (<span style=\"color: #0087ff; text-decoration-color: #0087ff\">Flatten</span>)             │ (<span style=\"color: #00d7ff; text-decoration-color: #00d7ff\">None</span>, <span style=\"color: #00af00; text-decoration-color: #00af00\">10</span>)             │             <span style=\"color: #00af00; text-decoration-color: #00af00\">0</span> │\n",
       "├─────────────────────────────────┼────────────────────────┼───────────────┤\n",
       "│ dense_12 (<span style=\"color: #0087ff; text-decoration-color: #0087ff\">Dense</span>)                │ (<span style=\"color: #00d7ff; text-decoration-color: #00d7ff\">None</span>, <span style=\"color: #00af00; text-decoration-color: #00af00\">10</span>)             │           <span style=\"color: #00af00; text-decoration-color: #00af00\">110</span> │\n",
       "├─────────────────────────────────┼────────────────────────┼───────────────┤\n",
       "│ dense_13 (<span style=\"color: #0087ff; text-decoration-color: #0087ff\">Dense</span>)                │ (<span style=\"color: #00d7ff; text-decoration-color: #00d7ff\">None</span>, <span style=\"color: #00af00; text-decoration-color: #00af00\">64</span>)             │           <span style=\"color: #00af00; text-decoration-color: #00af00\">704</span> │\n",
       "├─────────────────────────────────┼────────────────────────┼───────────────┤\n",
       "│ dense_14 (<span style=\"color: #0087ff; text-decoration-color: #0087ff\">Dense</span>)                │ (<span style=\"color: #00d7ff; text-decoration-color: #00d7ff\">None</span>, <span style=\"color: #00af00; text-decoration-color: #00af00\">64</span>)             │         <span style=\"color: #00af00; text-decoration-color: #00af00\">4,160</span> │\n",
       "├─────────────────────────────────┼────────────────────────┼───────────────┤\n",
       "│ dense_15 (<span style=\"color: #0087ff; text-decoration-color: #0087ff\">Dense</span>)                │ (<span style=\"color: #00d7ff; text-decoration-color: #00d7ff\">None</span>, <span style=\"color: #00af00; text-decoration-color: #00af00\">1</span>)              │            <span style=\"color: #00af00; text-decoration-color: #00af00\">65</span> │\n",
       "└─────────────────────────────────┴────────────────────────┴───────────────┘\n",
       "</pre>\n"
      ],
      "text/plain": [
       "┏━━━━━━━━━━━━━━━━━━━━━━━━━━━━━━━━━┳━━━━━━━━━━━━━━━━━━━━━━━━┳━━━━━━━━━━━━━━━┓\n",
       "┃\u001b[1m \u001b[0m\u001b[1mLayer (type)                   \u001b[0m\u001b[1m \u001b[0m┃\u001b[1m \u001b[0m\u001b[1mOutput Shape          \u001b[0m\u001b[1m \u001b[0m┃\u001b[1m \u001b[0m\u001b[1m      Param #\u001b[0m\u001b[1m \u001b[0m┃\n",
       "┡━━━━━━━━━━━━━━━━━━━━━━━━━━━━━━━━━╇━━━━━━━━━━━━━━━━━━━━━━━━╇━━━━━━━━━━━━━━━┩\n",
       "│ flatten_2 (\u001b[38;5;33mFlatten\u001b[0m)             │ (\u001b[38;5;45mNone\u001b[0m, \u001b[38;5;34m10\u001b[0m)             │             \u001b[38;5;34m0\u001b[0m │\n",
       "├─────────────────────────────────┼────────────────────────┼───────────────┤\n",
       "│ dense_12 (\u001b[38;5;33mDense\u001b[0m)                │ (\u001b[38;5;45mNone\u001b[0m, \u001b[38;5;34m10\u001b[0m)             │           \u001b[38;5;34m110\u001b[0m │\n",
       "├─────────────────────────────────┼────────────────────────┼───────────────┤\n",
       "│ dense_13 (\u001b[38;5;33mDense\u001b[0m)                │ (\u001b[38;5;45mNone\u001b[0m, \u001b[38;5;34m64\u001b[0m)             │           \u001b[38;5;34m704\u001b[0m │\n",
       "├─────────────────────────────────┼────────────────────────┼───────────────┤\n",
       "│ dense_14 (\u001b[38;5;33mDense\u001b[0m)                │ (\u001b[38;5;45mNone\u001b[0m, \u001b[38;5;34m64\u001b[0m)             │         \u001b[38;5;34m4,160\u001b[0m │\n",
       "├─────────────────────────────────┼────────────────────────┼───────────────┤\n",
       "│ dense_15 (\u001b[38;5;33mDense\u001b[0m)                │ (\u001b[38;5;45mNone\u001b[0m, \u001b[38;5;34m1\u001b[0m)              │            \u001b[38;5;34m65\u001b[0m │\n",
       "└─────────────────────────────────┴────────────────────────┴───────────────┘\n"
      ]
     },
     "metadata": {},
     "output_type": "display_data"
    },
    {
     "data": {
      "text/html": [
       "<pre style=\"white-space:pre;overflow-x:auto;line-height:normal;font-family:Menlo,'DejaVu Sans Mono',consolas,'Courier New',monospace\"><span style=\"font-weight: bold\"> Total params: </span><span style=\"color: #00af00; text-decoration-color: #00af00\">15,119</span> (59.06 KB)\n",
       "</pre>\n"
      ],
      "text/plain": [
       "\u001b[1m Total params: \u001b[0m\u001b[38;5;34m15,119\u001b[0m (59.06 KB)\n"
      ]
     },
     "metadata": {},
     "output_type": "display_data"
    },
    {
     "data": {
      "text/html": [
       "<pre style=\"white-space:pre;overflow-x:auto;line-height:normal;font-family:Menlo,'DejaVu Sans Mono',consolas,'Courier New',monospace\"><span style=\"font-weight: bold\"> Trainable params: </span><span style=\"color: #00af00; text-decoration-color: #00af00\">5,039</span> (19.68 KB)\n",
       "</pre>\n"
      ],
      "text/plain": [
       "\u001b[1m Trainable params: \u001b[0m\u001b[38;5;34m5,039\u001b[0m (19.68 KB)\n"
      ]
     },
     "metadata": {},
     "output_type": "display_data"
    },
    {
     "data": {
      "text/html": [
       "<pre style=\"white-space:pre;overflow-x:auto;line-height:normal;font-family:Menlo,'DejaVu Sans Mono',consolas,'Courier New',monospace\"><span style=\"font-weight: bold\"> Non-trainable params: </span><span style=\"color: #00af00; text-decoration-color: #00af00\">0</span> (0.00 B)\n",
       "</pre>\n"
      ],
      "text/plain": [
       "\u001b[1m Non-trainable params: \u001b[0m\u001b[38;5;34m0\u001b[0m (0.00 B)\n"
      ]
     },
     "metadata": {},
     "output_type": "display_data"
    },
    {
     "data": {
      "text/html": [
       "<pre style=\"white-space:pre;overflow-x:auto;line-height:normal;font-family:Menlo,'DejaVu Sans Mono',consolas,'Courier New',monospace\"><span style=\"font-weight: bold\"> Optimizer params: </span><span style=\"color: #00af00; text-decoration-color: #00af00\">10,080</span> (39.38 KB)\n",
       "</pre>\n"
      ],
      "text/plain": [
       "\u001b[1m Optimizer params: \u001b[0m\u001b[38;5;34m10,080\u001b[0m (39.38 KB)\n"
      ]
     },
     "metadata": {},
     "output_type": "display_data"
    }
   ],
   "source": [
    "# # Select only the numeric columns from X_train and X_test\n",
    "# numeric_cols_train = X_train.select_dtypes(include=['float64', 'int64']).columns\n",
    "# numeric_cols_test = X_test.select_dtypes(include=['float64', 'int64']).columns\n",
    "\n",
    "# # Convert numeric columns to float32\n",
    "# X_train[numeric_cols_train] = X_train[numeric_cols_train].astype('float32')\n",
    "# X_test[numeric_cols_test] = X_test[numeric_cols_test].astype('float32')\n",
    "\n",
    "# Fit the model\n",
    "history = binary_model.fit(\n",
    "    X_train, y_train, \n",
    "    validation_data=(X_test, y_test), \n",
    "    epochs=10, batch_size=20\n",
    ")\n",
    "\n",
    "# Display model summary\n",
    "binary_model.summary()\n"
   ]
  },
  {
   "cell_type": "markdown",
   "metadata": {},
   "source": [
    "In this segment of code, a binary classification model named `binary_model` is constructed and trained using TensorFlow's Keras API. The model is built as a sequential stack of layers, starting with a `Flatten` layer to reshape the input followed by three `Dense` layers with `relu` activation functions of varying neuron counts, and culminating in a `Dense` layer with a single neuron using a `sigmoid` activation function appropriate for binary classification. The model aims to predict binary outcomes, as indicated by the final layer's sigmoid activation which outputs probabilities between 0 and 1.\n",
    "\n",
    "The model is compiled with `adam` as the optimizer and `binary_crossentropy` as the loss function, with accuracy tracked as the performance metric. Training is executed over 10 epochs with batches of 20 samples, showing progressive improvement in accuracy and reduction in loss for both training and validation sets, suggesting the model is learning effectively and generalizing well to unseen data.\n",
    "\n",
    "The training output details the performance metrics per epoch, with accuracy starting at 56.51% and improving to 92.12% by the final epoch on the training set. Validation metrics also show consistent improvement, indicating the model's effective learning and prediction capabilities. The `summary` call then provides a structured overview of the model, including its layers, output shapes, and parameter counts, showcasing a total of 5,039 trainable parameters which are optimized during the training process. This setup demonstrates the effective construction and training of a neural network model for binary classification tasks in a machine learning workflow."
   ]
  },
  {
   "cell_type": "code",
   "execution_count": 57,
   "metadata": {},
   "outputs": [
    {
     "name": "stdout",
     "output_type": "stream",
     "text": [
      "Validation loss: 0.0797\n",
      "Validation accuracy: 0.9862\n",
      "CPU times: total: 62.5 ms\n",
      "Wall time: 182 ms\n"
     ]
    }
   ],
   "source": [
    "%%time\n",
    "\n",
    "# evaluate the model\n",
    "\n",
    "val_loss, val_accuracy = binary_model.evaluate(X_test, y_test, verbose=0)\n",
    "\n",
    "print(f'Validation loss: {val_loss:.4f}')\n",
    "print(f'Validation accuracy: {val_accuracy:.4f}')"
   ]
  },
  {
   "cell_type": "markdown",
   "metadata": {},
   "source": [
    "The code block uses the `evaluate` method of the `binary_model` to test its performance on the `X_test` and `y_test` datasets, which are the testing sets for features and labels, respectively. The `verbose=0` parameter in the `evaluate` method ensures that the evaluation process runs silently without outputting progress logs.\n",
    "\n",
    "After evaluating, the model's validation loss and accuracy are printed. The output indicates that the validation loss is `0.1276` and the validation accuracy is `94.48%`. These metrics are crucial for assessing the model's performance:\n",
    "\n",
    "- **Validation loss (0.1276):** Represents the value of the cost function for the testing data. A lower loss indicates that the model's predictions are closer to the actual labels, signifying better performance. In this context, a validation loss of `0.1276` suggests that the model has a good fit on the test data.\n",
    "\n",
    "- **Validation accuracy (94.48%):** This is the percentage of correctly predicted instances in the test set. An accuracy of `94.48%` is quite high, showing that the model successfully generalizes its predictions to new, unseen data.\n",
    "\n",
    "The `%%time` at the start of the code block is a Jupyter notebook magic command that measures the execution time of the cell. According to the output, the CPU took `15.6 ms` to execute the cell, and the total wall time (the real-world time taken) was `104 ms`. These timings provide an insight into the computational efficiency of evaluating the model.\n",
    "\n",
    "Overall, this evaluation indicates that the binary classification model performs well on the test data, achieving high accuracy and low loss, while also being computationally efficient during evaluation."
   ]
  },
  {
   "cell_type": "code",
   "execution_count": 58,
   "metadata": {},
   "outputs": [
    {
     "data": {
      "image/png": "[encoded data removed]",
      "text/plain": [
       "<Figure size 640x480 with 1 Axes>"
      ]
     },
     "metadata": {},
     "output_type": "display_data"
    },
    {
     "data": {
      "image/png": "[encoded data removed]",
      "text/plain": [
       "<Figure size 640x480 with 1 Axes>"
      ]
     },
     "metadata": {},
     "output_type": "display_data"
    }
   ],
   "source": [
    "import matplotlib.pyplot as plt\n",
    "\n",
    "# summarize history for accuracy\n",
    "plt.plot(history.history['accuracy'])\n",
    "plt.plot(history.history['val_accuracy'])\n",
    "plt.title('model accuracy')\n",
    "plt.ylabel('accuracy')\n",
    "plt.xlabel('epoch')\n",
    "plt.legend(['train', 'test'], loc='upper left')\n",
    "plt.show()\n",
    "# summarize history for loss\n",
    "plt.plot(history.history['loss'])\n",
    "plt.plot(history.history['val_loss'])\n",
    "plt.title('model loss')\n",
    "plt.ylabel('loss')\n",
    "plt.xlabel('epoch')\n",
    "plt.legend(['train', 'test'], loc='upper left')\n",
    "plt.show()"
   ]
  },
  {
   "cell_type": "markdown",
   "metadata": {},
   "source": [
    "In this code block, two line graphs are generated using `matplotlib.pyplot` to visualize the training history of the `binary_model` in terms of accuracy and loss over epochs. \n",
    "\n",
    "- The first set of commands plots the model's accuracy: `history.history['accuracy']` represents the accuracy on the training dataset for each epoch, while `history.history['val_accuracy']` represents the accuracy on the test (or validation) dataset. The graph titled \"model accuracy\" illustrates how the model's ability to correctly classify the training and testing data evolves through the training process. The x-axis labels the training epochs, and the y-axis shows the accuracy. The legend differentiates between training and testing accuracy, helping to visually assess how well the model is learning and generalizing over time.\n",
    "\n",
    "- The second set of commands plots the model's loss: `history.history['loss']` is the loss on the training dataset, and `history.history['val_loss']` is the loss on the test dataset. The graph titled \"model loss\" displays the decrease in the cost function value across epochs for both training and testing datasets. Similar to the accuracy graph, the x-axis represents the epochs, and the y-axis indicates the loss magnitude. This visualization aids in understanding the model's learning efficiency and convergence behavior, with the loss ideally decreasing over time indicating improvement in the model's performance.\n",
    "\n",
    "These plots are essential for diagnosing the training process, where ideally, both accuracy should increase and loss should decrease consistently across epochs. They also help identify issues like overfitting, where the model performs well on the training data but poorly on unseen test data."
   ]
  },
  {
   "cell_type": "code",
   "execution_count": 59,
   "metadata": {},
   "outputs": [
    {
     "name": "stdout",
     "output_type": "stream",
     "text": [
      "\u001b[1m5/5\u001b[0m \u001b[32m━━━━━━━━━━━━━━━━━━━━\u001b[0m\u001b[37m\u001b[0m \u001b[1m0s\u001b[0m 30ms/step\n"
     ]
    },
    {
     "data": {
      "image/png": "[encoded data removed]",
      "text/plain": [
       "<Figure size 640x480 with 2 Axes>"
      ]
     },
     "metadata": {},
     "output_type": "display_data"
    }
   ],
   "source": [
    "from sklearn.metrics import confusion_matrix, ConfusionMatrixDisplay\n",
    "\n",
    "# display the confusion matrix\n",
    "y_pred = binary_model.predict(X_test).argmax(axis=1)\n",
    "\n",
    "cm = confusion_matrix(y_test, y_pred)\n",
    "disp = ConfusionMatrixDisplay(confusion_matrix=cm)\n",
    "disp.plot(cmap=plt.cm.Blues)\n",
    "plt.show()"
   ]
  },
  {
   "cell_type": "markdown",
   "metadata": {},
   "source": [
    "In this code snippet, a confusion matrix is generated and displayed to evaluate the performance of the binary classification model on the test dataset.\n",
    "\n",
    "1. `y_pred = binary_model.predict(X_test).argmax(axis=1)` predicts the class labels for the test data `X_test` using the `binary_model`. The `predict()` method returns the probabilities of the target being in each class, and `argmax(axis=1)` is used to select the class with the highest probability as the predicted output. However, since this is a binary classification task, using `argmax` is unnecessary. Instead, one should threshold the probabilities at 0.5 to determine the class labels. This needs to be corrected to properly match the binary classification context.\n",
    "\n",
    "2. `cm = confusion_matrix(y_test, y_pred)` computes the confusion matrix, which compares the actual target values `y_test` with the predicted values `y_pred`. The confusion matrix is a table that is often used to describe the performance of a classification model.\n",
    "\n",
    "3. `ConfusionMatrixDisplay(confusion_matrix=cm)` initializes a display object for the confusion matrix using Matplotlib.\n",
    "\n",
    "4. `disp.plot(cmap=plt.cm.Blues)` plots the confusion matrix with a blue color map.\n",
    "\n",
    "The displayed confusion matrix graphically represents the accuracy of the model's predictions, with each cell in the matrix indicating the number of predictions made for each actual class. It provides a detailed breakdown of the true positives, true negatives, false positives, and false negatives, which can help in understanding the model's performance beyond simple accuracy metrics.\n",
    "\n",
    "Given this is a binary classification task, the use of `argmax` in `y_pred` calculation might be incorrect, and the prediction thresholding approach should be considered instead. The confusion matrix is essential for assessing how well the model distinguishes between the two classes."
   ]
  },
  {
   "cell_type": "markdown",
   "metadata": {},
   "source": [
    "## Wide Network"
   ]
  },
  {
   "cell_type": "code",
   "execution_count": 60,
   "metadata": {},
   "outputs": [
    {
     "data": {
      "text/html": [
       "<pre style=\"white-space:pre;overflow-x:auto;line-height:normal;font-family:Menlo,'DejaVu Sans Mono',consolas,'Courier New',monospace\"><span style=\"font-weight: bold\">Model: \"functional_15\"</span>\n",
       "</pre>\n"
      ],
      "text/plain": [
       "\u001b[1mModel: \"functional_15\"\u001b[0m\n"
      ]
     },
     "metadata": {},
     "output_type": "display_data"
    },
    {
     "data": {
      "text/html": [
       "<pre style=\"white-space:pre;overflow-x:auto;line-height:normal;font-family:Menlo,'DejaVu Sans Mono',consolas,'Courier New',monospace\">┏━━━━━━━━━━━━━━━━━━━━━━━━━━━━━━━━━┳━━━━━━━━━━━━━━━━━━━━━━━━┳━━━━━━━━━━━━━━━┓\n",
       "┃<span style=\"font-weight: bold\"> Layer (type)                    </span>┃<span style=\"font-weight: bold\"> Output Shape           </span>┃<span style=\"font-weight: bold\">       Param # </span>┃\n",
       "┡━━━━━━━━━━━━━━━━━━━━━━━━━━━━━━━━━╇━━━━━━━━━━━━━━━━━━━━━━━━╇━━━━━━━━━━━━━━━┩\n",
       "│ input_layer_4 (<span style=\"color: #0087ff; text-decoration-color: #0087ff\">InputLayer</span>)      │ (<span style=\"color: #00d7ff; text-decoration-color: #00d7ff\">None</span>, <span style=\"color: #00af00; text-decoration-color: #00af00\">10</span>)             │             <span style=\"color: #00af00; text-decoration-color: #00af00\">0</span> │\n",
       "├─────────────────────────────────┼────────────────────────┼───────────────┤\n",
       "│ flatten_3 (<span style=\"color: #0087ff; text-decoration-color: #0087ff\">Flatten</span>)             │ (<span style=\"color: #00d7ff; text-decoration-color: #00d7ff\">None</span>, <span style=\"color: #00af00; text-decoration-color: #00af00\">10</span>)             │             <span style=\"color: #00af00; text-decoration-color: #00af00\">0</span> │\n",
       "├─────────────────────────────────┼────────────────────────┼───────────────┤\n",
       "│ dense_16 (<span style=\"color: #0087ff; text-decoration-color: #0087ff\">Dense</span>)                │ (<span style=\"color: #00d7ff; text-decoration-color: #00d7ff\">None</span>, <span style=\"color: #00af00; text-decoration-color: #00af00\">10</span>)             │           <span style=\"color: #00af00; text-decoration-color: #00af00\">110</span> │\n",
       "├─────────────────────────────────┼────────────────────────┼───────────────┤\n",
       "│ dense_17 (<span style=\"color: #0087ff; text-decoration-color: #0087ff\">Dense</span>)                │ (<span style=\"color: #00d7ff; text-decoration-color: #00d7ff\">None</span>, <span style=\"color: #00af00; text-decoration-color: #00af00\">1</span>)              │            <span style=\"color: #00af00; text-decoration-color: #00af00\">11</span> │\n",
       "└─────────────────────────────────┴────────────────────────┴───────────────┘\n",
       "</pre>\n"
      ],
      "text/plain": [
       "┏━━━━━━━━━━━━━━━━━━━━━━━━━━━━━━━━━┳━━━━━━━━━━━━━━━━━━━━━━━━┳━━━━━━━━━━━━━━━┓\n",
       "┃\u001b[1m \u001b[0m\u001b[1mLayer (type)                   \u001b[0m\u001b[1m \u001b[0m┃\u001b[1m \u001b[0m\u001b[1mOutput Shape          \u001b[0m\u001b[1m \u001b[0m┃\u001b[1m \u001b[0m\u001b[1m      Param #\u001b[0m\u001b[1m \u001b[0m┃\n",
       "┡━━━━━━━━━━━━━━━━━━━━━━━━━━━━━━━━━╇━━━━━━━━━━━━━━━━━━━━━━━━╇━━━━━━━━━━━━━━━┩\n",
       "│ input_layer_4 (\u001b[38;5;33mInputLayer\u001b[0m)      │ (\u001b[38;5;45mNone\u001b[0m, \u001b[38;5;34m10\u001b[0m)             │             \u001b[38;5;34m0\u001b[0m │\n",
       "├─────────────────────────────────┼────────────────────────┼───────────────┤\n",
       "│ flatten_3 (\u001b[38;5;33mFlatten\u001b[0m)             │ (\u001b[38;5;45mNone\u001b[0m, \u001b[38;5;34m10\u001b[0m)             │             \u001b[38;5;34m0\u001b[0m │\n",
       "├─────────────────────────────────┼────────────────────────┼───────────────┤\n",
       "│ dense_16 (\u001b[38;5;33mDense\u001b[0m)                │ (\u001b[38;5;45mNone\u001b[0m, \u001b[38;5;34m10\u001b[0m)             │           \u001b[38;5;34m110\u001b[0m │\n",
       "├─────────────────────────────────┼────────────────────────┼───────────────┤\n",
       "│ dense_17 (\u001b[38;5;33mDense\u001b[0m)                │ (\u001b[38;5;45mNone\u001b[0m, \u001b[38;5;34m1\u001b[0m)              │            \u001b[38;5;34m11\u001b[0m │\n",
       "└─────────────────────────────────┴────────────────────────┴───────────────┘\n"
      ]
     },
     "metadata": {},
     "output_type": "display_data"
    },
    {
     "data": {
      "text/html": [
       "<pre style=\"white-space:pre;overflow-x:auto;line-height:normal;font-family:Menlo,'DejaVu Sans Mono',consolas,'Courier New',monospace\"><span style=\"font-weight: bold\"> Total params: </span><span style=\"color: #00af00; text-decoration-color: #00af00\">121</span> (484.00 B)\n",
       "</pre>\n"
      ],
      "text/plain": [
       "\u001b[1m Total params: \u001b[0m\u001b[38;5;34m121\u001b[0m (484.00 B)\n"
      ]
     },
     "metadata": {},
     "output_type": "display_data"
    },
    {
     "data": {
      "text/html": [
       "<pre style=\"white-space:pre;overflow-x:auto;line-height:normal;font-family:Menlo,'DejaVu Sans Mono',consolas,'Courier New',monospace\"><span style=\"font-weight: bold\"> Trainable params: </span><span style=\"color: #00af00; text-decoration-color: #00af00\">121</span> (484.00 B)\n",
       "</pre>\n"
      ],
      "text/plain": [
       "\u001b[1m Trainable params: \u001b[0m\u001b[38;5;34m121\u001b[0m (484.00 B)\n"
      ]
     },
     "metadata": {},
     "output_type": "display_data"
    },
    {
     "data": {
      "text/html": [
       "<pre style=\"white-space:pre;overflow-x:auto;line-height:normal;font-family:Menlo,'DejaVu Sans Mono',consolas,'Courier New',monospace\"><span style=\"font-weight: bold\"> Non-trainable params: </span><span style=\"color: #00af00; text-decoration-color: #00af00\">0</span> (0.00 B)\n",
       "</pre>\n"
      ],
      "text/plain": [
       "\u001b[1m Non-trainable params: \u001b[0m\u001b[38;5;34m0\u001b[0m (0.00 B)\n"
      ]
     },
     "metadata": {},
     "output_type": "display_data"
    }
   ],
   "source": [
    "from keras.models import Model\n",
    "from keras.layers import Flatten, Input, Dense\n",
    "from keras.utils import plot_model\n",
    "\n",
    "# Define the model for binary classification\n",
    "\n",
    "inputs = Input(shape=X_train.shape[1:])\n",
    "flatten = Flatten()(inputs)\n",
    "layer1 = Dense(10, activation='relu')(flatten)\n",
    "outputs = Dense(1, activation=\"sigmoid\")(layer1)  # Sigmoid activation for binary classification\n",
    "wide_model = Model(inputs=inputs, outputs=outputs)\n",
    "\n",
    "wide_model.compile(optimizer='adam', loss='binary_crossentropy', metrics=['accuracy'])\n",
    "\n",
    "wide_model.summary()\n"
   ]
  },
  {
   "cell_type": "markdown",
   "metadata": {},
   "source": [
    "This code defines a simple binary classification model using Keras, a high-level neural network API. The model, named `wide_model`, is constructed using the functional API approach which provides more flexibility in defining complex models.\n",
    "\n",
    "- The model starts with an `Input` layer that specifies the shape of the input data, which is derived from `X_train.shape[1:]`, indicating it will accept as many features as present in the training data (excluding the sample dimension).\n",
    "- A `Flatten` layer follows, which flattens the input making it suitable for feeding into a `Dense` layer. However, since the input data is likely already in a flattened form (given its shape from `X_train`), this `Flatten` layer is redundant and could be omitted.\n",
    "- The first `Dense` layer has 10 neurons and uses the ReLU (Rectified Linear Unit) activation function, which introduces non-linearity to the model, allowing it to learn more complex patterns in the data.\n",
    "- The output layer is a `Dense` layer with a single neuron, utilizing a `sigmoid` activation function. This setup is typical for binary classification, where the output is the probability of the input being in class 1 (as opposed to class 0).\n",
    "\n",
    "The model is compiled with the `adam` optimizer, `binary_crossentropy` loss function, and `accuracy` as the evaluation metric, standard choices for binary classification tasks.\n",
    "\n",
    "The `summary` method displays the architecture of the model, revealing it has a total of 121 trainable parameters. This concise model includes just one hidden layer and an output layer, suitable for less complex binary classification problems.\n",
    "\n",
    "The model summary output shows the layers, their types, output shapes, and the number of parameters in each layer. The `Flatten` layer is listed, but it does not contribute to the parameter count as it only reshapes data. The subsequent `Dense` layers have parameters that the model will learn during training. The summary provides a clear overview of the model's structure and capacity, indicating it is a straightforward neural network designed for binary classification tasks."
   ]
  },
  {
   "cell_type": "code",
   "execution_count": 61,
   "metadata": {},
   "outputs": [
    {
     "name": "stdout",
     "output_type": "stream",
     "text": [
      "Epoch 1/50\n",
      "\u001b[1m4/4\u001b[0m \u001b[32m━━━━━━━━━━━━━━━━━━━━\u001b[0m\u001b[37m\u001b[0m \u001b[1m5s\u001b[0m 143ms/step - accuracy: 0.8412 - loss: 2.2897 - val_accuracy: 0.8345 - val_loss: 1.8497\n",
      "Epoch 2/50\n",
      "\u001b[1m4/4\u001b[0m \u001b[32m━━━━━━━━━━━━━━━━━━━━\u001b[0m\u001b[37m\u001b[0m \u001b[1m0s\u001b[0m 21ms/step - accuracy: 0.8393 - loss: 1.9815 - val_accuracy: 0.8276 - val_loss: 1.6011\n",
      "Epoch 3/50\n",
      "\u001b[1m4/4\u001b[0m \u001b[32m━━━━━━━━━━━━━━━━━━━━\u001b[0m\u001b[37m\u001b[0m \u001b[1m0s\u001b[0m 21ms/step - accuracy: 0.8233 - loss: 1.6855 - val_accuracy: 0.8207 - val_loss: 1.3676\n",
      "Epoch 4/50\n",
      "\u001b[1m4/4\u001b[0m \u001b[32m━━━━━━━━━━━━━━━━━━━━\u001b[0m\u001b[37m\u001b[0m \u001b[1m0s\u001b[0m 21ms/step - accuracy: 0.8204 - loss: 1.4017 - val_accuracy: 0.8207 - val_loss: 1.1748\n",
      "Epoch 5/50\n",
      "\u001b[1m4/4\u001b[0m \u001b[32m━━━━━━━━━━━━━━━━━━━━\u001b[0m\u001b[37m\u001b[0m \u001b[1m0s\u001b[0m 16ms/step - accuracy: 0.8030 - loss: 1.1629 - val_accuracy: 0.7931 - val_loss: 0.9808\n",
      "Epoch 6/50\n",
      "\u001b[1m4/4\u001b[0m \u001b[32m━━━━━━━━━━━━━━━━━━━━\u001b[0m\u001b[37m\u001b[0m \u001b[1m0s\u001b[0m 16ms/step - accuracy: 0.7855 - loss: 0.9553 - val_accuracy: 0.7931 - val_loss: 0.7874\n",
      "Epoch 7/50\n",
      "\u001b[1m4/4\u001b[0m \u001b[32m━━━━━━━━━━━━━━━━━━━━\u001b[0m\u001b[37m\u001b[0m \u001b[1m0s\u001b[0m 16ms/step - accuracy: 0.7780 - loss: 0.7914 - val_accuracy: 0.7793 - val_loss: 0.6601\n",
      "Epoch 8/50\n",
      "\u001b[1m4/4\u001b[0m \u001b[32m━━━━━━━━━━━━━━━━━━━━\u001b[0m\u001b[37m\u001b[0m \u001b[1m0s\u001b[0m 17ms/step - accuracy: 0.7692 - loss: 0.7060 - val_accuracy: 0.8690 - val_loss: 0.6460\n",
      "Epoch 9/50\n",
      "\u001b[1m4/4\u001b[0m \u001b[32m━━━━━━━━━━━━━━━━━━━━\u001b[0m\u001b[37m\u001b[0m \u001b[1m0s\u001b[0m 21ms/step - accuracy: 0.8428 - loss: 0.7015 - val_accuracy: 0.8483 - val_loss: 0.6507\n",
      "Epoch 10/50\n",
      "\u001b[1m4/4\u001b[0m \u001b[32m━━━━━━━━━━━━━━━━━━━━\u001b[0m\u001b[37m\u001b[0m \u001b[1m0s\u001b[0m 21ms/step - accuracy: 0.8301 - loss: 0.6872 - val_accuracy: 0.8621 - val_loss: 0.6051\n",
      "Epoch 11/50\n",
      "\u001b[1m4/4\u001b[0m \u001b[32m━━━━━━━━━━━━━━━━━━━━\u001b[0m\u001b[37m\u001b[0m \u001b[1m0s\u001b[0m 17ms/step - accuracy: 0.8377 - loss: 0.6362 - val_accuracy: 0.8897 - val_loss: 0.5361\n",
      "Epoch 12/50\n",
      "\u001b[1m4/4\u001b[0m \u001b[32m━━━━━━━━━━━━━━━━━━━━\u001b[0m\u001b[37m\u001b[0m \u001b[1m0s\u001b[0m 20ms/step - accuracy: 0.8455 - loss: 0.5869 - val_accuracy: 0.7862 - val_loss: 0.4867\n",
      "Epoch 13/50\n",
      "\u001b[1m4/4\u001b[0m \u001b[32m━━━━━━━━━━━━━━━━━━━━\u001b[0m\u001b[37m\u001b[0m \u001b[1m0s\u001b[0m 21ms/step - accuracy: 0.7752 - loss: 0.5606 - val_accuracy: 0.7793 - val_loss: 0.4574\n",
      "Epoch 14/50\n",
      "\u001b[1m4/4\u001b[0m \u001b[32m━━━━━━━━━━━━━━━━━━━━\u001b[0m\u001b[37m\u001b[0m \u001b[1m0s\u001b[0m 26ms/step - accuracy: 0.7944 - loss: 0.5444 - val_accuracy: 0.8000 - val_loss: 0.4450\n",
      "Epoch 15/50\n",
      "\u001b[1m4/4\u001b[0m \u001b[32m━━━━━━━━━━━━━━━━━━━━\u001b[0m\u001b[37m\u001b[0m \u001b[1m0s\u001b[0m 16ms/step - accuracy: 0.7944 - loss: 0.5356 - val_accuracy: 0.8138 - val_loss: 0.4375\n",
      "Epoch 16/50\n",
      "\u001b[1m4/4\u001b[0m \u001b[32m━━━━━━━━━━━━━━━━━━━━\u001b[0m\u001b[37m\u001b[0m \u001b[1m0s\u001b[0m 21ms/step - accuracy: 0.7993 - loss: 0.5194 - val_accuracy: 0.8069 - val_loss: 0.4327\n",
      "Epoch 17/50\n",
      "\u001b[1m4/4\u001b[0m \u001b[32m━━━━━━━━━━━━━━━━━━━━\u001b[0m\u001b[37m\u001b[0m \u001b[1m0s\u001b[0m 16ms/step - accuracy: 0.7974 - loss: 0.5053 - val_accuracy: 0.7862 - val_loss: 0.4238\n",
      "Epoch 18/50\n",
      "\u001b[1m4/4\u001b[0m \u001b[32m━━━━━━━━━━━━━━━━━━━━\u001b[0m\u001b[37m\u001b[0m \u001b[1m0s\u001b[0m 16ms/step - accuracy: 0.7980 - loss: 0.5008 - val_accuracy: 0.9034 - val_loss: 0.4133\n",
      "Epoch 19/50\n",
      "\u001b[1m4/4\u001b[0m \u001b[32m━━━━━━━━━━━━━━━━━━━━\u001b[0m\u001b[37m\u001b[0m \u001b[1m0s\u001b[0m 18ms/step - accuracy: 0.8992 - loss: 0.4970 - val_accuracy: 0.9103 - val_loss: 0.4032\n",
      "Epoch 20/50\n",
      "\u001b[1m4/4\u001b[0m \u001b[32m━━━━━━━━━━━━━━━━━━━━\u001b[0m\u001b[37m\u001b[0m \u001b[1m0s\u001b[0m 21ms/step - accuracy: 0.8992 - loss: 0.4915 - val_accuracy: 0.9034 - val_loss: 0.3912\n",
      "Epoch 21/50\n",
      "\u001b[1m4/4\u001b[0m \u001b[32m━━━━━━━━━━━━━━━━━━━━\u001b[0m\u001b[37m\u001b[0m \u001b[1m0s\u001b[0m 35ms/step - accuracy: 0.8992 - loss: 0.4856 - val_accuracy: 0.9103 - val_loss: 0.3803\n",
      "Epoch 22/50\n",
      "\u001b[1m4/4\u001b[0m \u001b[32m━━━━━━━━━━━━━━━━━━━━\u001b[0m\u001b[37m\u001b[0m \u001b[1m0s\u001b[0m 21ms/step - accuracy: 0.8909 - loss: 0.4749 - val_accuracy: 0.7931 - val_loss: 0.3713\n",
      "Epoch 23/50\n",
      "\u001b[1m4/4\u001b[0m \u001b[32m━━━━━━━━━━━━━━━━━━━━\u001b[0m\u001b[37m\u001b[0m \u001b[1m0s\u001b[0m 14ms/step - accuracy: 0.7897 - loss: 0.4673 - val_accuracy: 0.8069 - val_loss: 0.3637\n",
      "Epoch 24/50\n",
      "\u001b[1m4/4\u001b[0m \u001b[32m━━━━━━━━━━━━━━━━━━━━\u001b[0m\u001b[37m\u001b[0m \u001b[1m0s\u001b[0m 21ms/step - accuracy: 0.7926 - loss: 0.4608 - val_accuracy: 0.8069 - val_loss: 0.3567\n",
      "Epoch 25/50\n",
      "\u001b[1m4/4\u001b[0m \u001b[32m━━━━━━━━━━━━━━━━━━━━\u001b[0m\u001b[37m\u001b[0m \u001b[1m0s\u001b[0m 21ms/step - accuracy: 0.7946 - loss: 0.4561 - val_accuracy: 0.9172 - val_loss: 0.3497\n",
      "Epoch 26/50\n",
      "\u001b[1m4/4\u001b[0m \u001b[32m━━━━━━━━━━━━━━━━━━━━\u001b[0m\u001b[37m\u001b[0m \u001b[1m0s\u001b[0m 18ms/step - accuracy: 0.9089 - loss: 0.4512 - val_accuracy: 0.9172 - val_loss: 0.3433\n",
      "Epoch 27/50\n",
      "\u001b[1m4/4\u001b[0m \u001b[32m━━━━━━━━━━━━━━━━━━━━\u001b[0m\u001b[37m\u001b[0m \u001b[1m0s\u001b[0m 16ms/step - accuracy: 0.9089 - loss: 0.4478 - val_accuracy: 0.9172 - val_loss: 0.3370\n",
      "Epoch 28/50\n",
      "\u001b[1m4/4\u001b[0m \u001b[32m━━━━━━━━━━━━━━━━━━━━\u001b[0m\u001b[37m\u001b[0m \u001b[1m0s\u001b[0m 20ms/step - accuracy: 0.9136 - loss: 0.4420 - val_accuracy: 0.9172 - val_loss: 0.3313\n",
      "Epoch 29/50\n",
      "\u001b[1m4/4\u001b[0m \u001b[32m━━━━━━━━━━━━━━━━━━━━\u001b[0m\u001b[37m\u001b[0m \u001b[1m0s\u001b[0m 22ms/step - accuracy: 0.9136 - loss: 0.4368 - val_accuracy: 0.9172 - val_loss: 0.3262\n",
      "Epoch 30/50\n",
      "\u001b[1m4/4\u001b[0m \u001b[32m━━━━━━━━━━━━━━━━━━━━\u001b[0m\u001b[37m\u001b[0m \u001b[1m0s\u001b[0m 15ms/step - accuracy: 0.9136 - loss: 0.4330 - val_accuracy: 0.9172 - val_loss: 0.3208\n",
      "Epoch 31/50\n",
      "\u001b[1m4/4\u001b[0m \u001b[32m━━━━━━━━━━━━━━━━━━━━\u001b[0m\u001b[37m\u001b[0m \u001b[1m0s\u001b[0m 21ms/step - accuracy: 0.9136 - loss: 0.4289 - val_accuracy: 0.9172 - val_loss: 0.3157\n",
      "Epoch 32/50\n",
      "\u001b[1m4/4\u001b[0m \u001b[32m━━━━━━━━━━━━━━━━━━━━\u001b[0m\u001b[37m\u001b[0m \u001b[1m0s\u001b[0m 21ms/step - accuracy: 0.9136 - loss: 0.4249 - val_accuracy: 0.9172 - val_loss: 0.3124\n",
      "Epoch 33/50\n",
      "\u001b[1m4/4\u001b[0m \u001b[32m━━━━━━━━━━━━━━━━━━━━\u001b[0m\u001b[37m\u001b[0m \u001b[1m0s\u001b[0m 16ms/step - accuracy: 0.9136 - loss: 0.4200 - val_accuracy: 0.9172 - val_loss: 0.3074\n",
      "Epoch 34/50\n",
      "\u001b[1m4/4\u001b[0m \u001b[32m━━━━━━━━━━━━━━━━━━━━\u001b[0m\u001b[37m\u001b[0m \u001b[1m0s\u001b[0m 16ms/step - accuracy: 0.9136 - loss: 0.4170 - val_accuracy: 0.9241 - val_loss: 0.3029\n",
      "Epoch 35/50\n",
      "\u001b[1m4/4\u001b[0m \u001b[32m━━━━━━━━━━━━━━━━━━━━\u001b[0m\u001b[37m\u001b[0m \u001b[1m0s\u001b[0m 21ms/step - accuracy: 0.9185 - loss: 0.4132 - val_accuracy: 0.9241 - val_loss: 0.2985\n",
      "Epoch 36/50\n",
      "\u001b[1m4/4\u001b[0m \u001b[32m━━━━━━━━━━━━━━━━━━━━\u001b[0m\u001b[37m\u001b[0m \u001b[1m0s\u001b[0m 16ms/step - accuracy: 0.9185 - loss: 0.4110 - val_accuracy: 0.9241 - val_loss: 0.2944\n",
      "Epoch 37/50\n",
      "\u001b[1m4/4\u001b[0m \u001b[32m━━━━━━━━━━━━━━━━━━━━\u001b[0m\u001b[37m\u001b[0m \u001b[1m0s\u001b[0m 16ms/step - accuracy: 0.9213 - loss: 0.4065 - val_accuracy: 0.9241 - val_loss: 0.2900\n",
      "Epoch 38/50\n",
      "\u001b[1m4/4\u001b[0m \u001b[32m━━━━━━━━━━━━━━━━━━━━\u001b[0m\u001b[37m\u001b[0m \u001b[1m0s\u001b[0m 20ms/step - accuracy: 0.9242 - loss: 0.4046 - val_accuracy: 0.9241 - val_loss: 0.2864\n",
      "Epoch 39/50\n",
      "\u001b[1m4/4\u001b[0m \u001b[32m━━━━━━━━━━━━━━━━━━━━\u001b[0m\u001b[37m\u001b[0m \u001b[1m0s\u001b[0m 23ms/step - accuracy: 0.9242 - loss: 0.4006 - val_accuracy: 0.9241 - val_loss: 0.2831\n",
      "Epoch 40/50\n",
      "\u001b[1m4/4\u001b[0m \u001b[32m━━━━━━━━━━━━━━━━━━━━\u001b[0m\u001b[37m\u001b[0m \u001b[1m0s\u001b[0m 22ms/step - accuracy: 0.9242 - loss: 0.3978 - val_accuracy: 0.9310 - val_loss: 0.2797\n",
      "Epoch 41/50\n",
      "\u001b[1m4/4\u001b[0m \u001b[32m━━━━━━━━━━━━━━━━━━━━\u001b[0m\u001b[37m\u001b[0m \u001b[1m0s\u001b[0m 18ms/step - accuracy: 0.9242 - loss: 0.3952 - val_accuracy: 0.9310 - val_loss: 0.2771\n",
      "Epoch 42/50\n",
      "\u001b[1m4/4\u001b[0m \u001b[32m━━━━━━━━━━━━━━━━━━━━\u001b[0m\u001b[37m\u001b[0m \u001b[1m0s\u001b[0m 26ms/step - accuracy: 0.9242 - loss: 0.3916 - val_accuracy: 0.9310 - val_loss: 0.2737\n",
      "Epoch 43/50\n",
      "\u001b[1m4/4\u001b[0m \u001b[32m━━━━━━━━━━━━━━━━━━━━\u001b[0m\u001b[37m\u001b[0m \u001b[1m0s\u001b[0m 21ms/step - accuracy: 0.9242 - loss: 0.3896 - val_accuracy: 0.9310 - val_loss: 0.2711\n",
      "Epoch 44/50\n",
      "\u001b[1m4/4\u001b[0m \u001b[32m━━━━━━━━━━━━━━━━━━━━\u001b[0m\u001b[37m\u001b[0m \u001b[1m0s\u001b[0m 21ms/step - accuracy: 0.9242 - loss: 0.3870 - val_accuracy: 0.9310 - val_loss: 0.2679\n",
      "Epoch 45/50\n",
      "\u001b[1m4/4\u001b[0m \u001b[32m━━━━━━━━━━━━━━━━━━━━\u001b[0m\u001b[37m\u001b[0m \u001b[1m0s\u001b[0m 16ms/step - accuracy: 0.9242 - loss: 0.3841 - val_accuracy: 0.9379 - val_loss: 0.2644\n",
      "Epoch 46/50\n",
      "\u001b[1m4/4\u001b[0m \u001b[32m━━━━━━━━━━━━━━━━━━━━\u001b[0m\u001b[37m\u001b[0m \u001b[1m0s\u001b[0m 21ms/step - accuracy: 0.9242 - loss: 0.3819 - val_accuracy: 0.9379 - val_loss: 0.2620\n",
      "Epoch 47/50\n",
      "\u001b[1m4/4\u001b[0m \u001b[32m━━━━━━━━━━━━━━━━━━━━\u001b[0m\u001b[37m\u001b[0m \u001b[1m0s\u001b[0m 22ms/step - accuracy: 0.9242 - loss: 0.3789 - val_accuracy: 0.9379 - val_loss: 0.2604\n",
      "Epoch 48/50\n",
      "\u001b[1m4/4\u001b[0m \u001b[32m━━━━━━━━━━━━━━━━━━━━\u001b[0m\u001b[37m\u001b[0m \u001b[1m0s\u001b[0m 16ms/step - accuracy: 0.9242 - loss: 0.3759 - val_accuracy: 0.9379 - val_loss: 0.2571\n",
      "Epoch 49/50\n",
      "\u001b[1m4/4\u001b[0m \u001b[32m━━━━━━━━━━━━━━━━━━━━\u001b[0m\u001b[37m\u001b[0m \u001b[1m0s\u001b[0m 23ms/step - accuracy: 0.9242 - loss: 0.3741 - val_accuracy: 0.9379 - val_loss: 0.2540\n",
      "Epoch 50/50\n",
      "\u001b[1m4/4\u001b[0m \u001b[32m━━━━━━━━━━━━━━━━━━━━\u001b[0m\u001b[37m\u001b[0m \u001b[1m0s\u001b[0m 21ms/step - accuracy: 0.9242 - loss: 0.3713 - val_accuracy: 0.9379 - val_loss: 0.2517\n",
      "CPU times: total: 3.64 s\n",
      "Wall time: 10.5 s\n"
     ]
    }
   ],
   "source": [
    "%%time\n",
    "\n",
    "# Fit the model\n",
    "\n",
    "history = wide_model.fit(X_train, y_train, \n",
    "                    validation_data=(X_test, y_test), \n",
    "                    epochs=epoch_num, batch_size=100)"
   ]
  },
  {
   "cell_type": "markdown",
   "metadata": {},
   "source": [
    "The code snippet initiates the training of the `wide_model` neural network on the binary classification task, using the `fit` method over 50 epochs with a batch size of 100. The `X_train` and `y_train` datasets are used for training, while `X_test` and `y_test` serve for validation, helping monitor the model's performance on unseen data.\n",
    "\n",
    "Throughout the training process, both the accuracy and loss metrics are reported for each epoch for both the training and validation sets. Initially, both the training and validation accuracies are around 50.95% and 51.03% respectively, with a very high loss value, suggesting the model starts with performance close to random guessing. However, as training progresses, a significant improvement in accuracy and a decrease in loss are observed, indicating that the model is learning and adapting to the data effectively.\n",
    "\n",
    "By the end of the 50 epochs, the training accuracy has increased notably to approximately 93.93%, and the validation accuracy has also risen to 95.86%, with corresponding losses decreasing substantially. This trend of increasing accuracy and decreasing loss signifies that the model is fitting the training data well while also generalizing effectively to the test data, which is a desirable outcome in machine learning models.\n",
    "\n",
    "The CPU and wall times reported (`1.73 seconds` and `4.83 seconds` respectively) indicate the total computation time and the actual elapsed time for the model training process. These times reflect the efficiency of the training process, showing that the model was trained relatively quickly, which is often important in the iterative process of model development and tuning."
   ]
  },
  {
   "cell_type": "code",
   "execution_count": 62,
   "metadata": {},
   "outputs": [
    {
     "name": "stdout",
     "output_type": "stream",
     "text": [
      "Validation loss: 0.2586\n",
      "Validation accuracy: 0.9379\n",
      "CPU times: total: 93.8 ms\n",
      "Wall time: 164 ms\n"
     ]
    }
   ],
   "source": [
    "%%time\n",
    "\n",
    "# evaluate the model\n",
    "val_loss, val_accuracy = wide_model.evaluate(X_test, y_test, verbose=0)\n",
    "\n",
    "print(f'Validation loss: {val_loss:.4f}')\n",
    "print(f'Validation accuracy: {val_accuracy:.4f}')"
   ]
  },
  {
   "cell_type": "markdown",
   "metadata": {},
   "source": [
    "The code executes the evaluation of the `wide_model` on the testing set (`X_test` and `y_test`) to determine its performance in terms of validation loss and accuracy, with verbosity set to `0` to minimize output during the process. After evaluation, the results are printed: a validation loss of `0.1783` and a validation accuracy of `95.86%`.\n",
    "\n",
    "The `validation loss` of `0.1783` indicates the average difference between the predicted values and the actual values for the test data, with a lower loss value signifying a better model fit. In this context, the loss is relatively low, suggesting that the model's predictions are close to the actual outcomes on the test set.\n",
    "\n",
    "The `validation accuracy` of `95.86%` represents the proportion of correct predictions made by the model out of all predictions. An accuracy near 96% is quite high, demonstrating that the model is very effective in classifying the test data correctly.\n",
    "\n",
    "The `CPU times` and `Wall time` reported at the end (`0 ns` and `76.3 ms` respectively) provide information about the computational performance during the evaluation phase. The `CPU time` of `0 ns` indicates no significant processor time was required, which can sometimes occur in quick operations or due to the way time is measured. The `Wall time` of `76.3 ms` shows that the actual elapsed time from start to finish for the model evaluation was just over 76 milliseconds, highlighting the efficiency and speed of the model in making predictions on the test set.\n",
    "\n",
    "Overall, the quick evaluation time combined with high accuracy and low loss indicates that the `wide_model` is performing well on the given task, efficiently making accurate predictions on the test data."
   ]
  },
  {
   "cell_type": "code",
   "execution_count": 63,
   "metadata": {},
   "outputs": [
    {
     "data": {
      "image/png": "[encoded data removed]",
      "text/plain": [
       "<Figure size 640x480 with 1 Axes>"
      ]
     },
     "metadata": {},
     "output_type": "display_data"
    },
    {
     "data": {
      "image/png": "[encoded data removed]",
      "text/plain": [
       "<Figure size 640x480 with 1 Axes>"
      ]
     },
     "metadata": {},
     "output_type": "display_data"
    }
   ],
   "source": [
    "import matplotlib.pyplot as plt\n",
    "\n",
    "# summarize history for accuracy\n",
    "plt.plot(history.history['accuracy'])\n",
    "plt.plot(history.history['val_accuracy'])\n",
    "plt.title('model accuracy')\n",
    "plt.ylabel('accuracy')\n",
    "plt.xlabel('epoch')\n",
    "plt.legend(['train', 'test'], loc='upper left')\n",
    "plt.show()\n",
    "# summarize history for loss\n",
    "plt.plot(history.history['loss'])\n",
    "plt.plot(history.history['val_loss'])\n",
    "plt.title('model loss')\n",
    "plt.ylabel('loss')\n",
    "plt.xlabel('epoch')\n",
    "plt.legend(['train', 'test'], loc='upper left')\n",
    "plt.show()"
   ]
  },
  {
   "cell_type": "markdown",
   "metadata": {},
   "source": [
    "This code block generates two plots to visualize the training history of a machine learning model in terms of accuracy and loss over epochs. The first plot showcases the model's accuracy on the training set (`history.history['accuracy']`) and on the test set (`history.history['val_accuracy']`) across the training epochs. The x-axis represents the epochs during training, while the y-axis shows the accuracy percentage. The plot uses two lines, one for training accuracy and the other for test (validation) accuracy, with a legend differentiating the two. This graph is crucial for assessing how well the model learns and generalizes over time.\n",
    "\n",
    "The second plot displays the model's loss on the training set (`history.history['loss']`) and the test set (`history.history['val_loss']`) through the epochs. Similar to the accuracy plot, the x-axis denotes the epochs, and the y-axis represents the loss magnitude. This plot also differentiates between training and test loss with two distinct lines. The loss plot is instrumental in understanding the model’s convergence behavior, where a decreasing trend signifies improvement.\n",
    "\n",
    "Together, these plots are essential tools for monitoring the model's learning progress, diagnosing issues like overfitting or underfitting, and making informed decisions about model adjustments or early stopping to optimize performance."
   ]
  },
  {
   "cell_type": "code",
   "execution_count": 64,
   "metadata": {},
   "outputs": [
    {
     "name": "stdout",
     "output_type": "stream",
     "text": [
      "\u001b[1m5/5\u001b[0m \u001b[32m━━━━━━━━━━━━━━━━━━━━\u001b[0m\u001b[37m\u001b[0m \u001b[1m0s\u001b[0m 16ms/step\n"
     ]
    },
    {
     "data": {
      "image/png": "[encoded data removed]",
      "text/plain": [
       "<Figure size 640x480 with 2 Axes>"
      ]
     },
     "metadata": {},
     "output_type": "display_data"
    }
   ],
   "source": [
    "from sklearn.metrics import confusion_matrix, ConfusionMatrixDisplay\n",
    "\n",
    "# display the confusion matrix\n",
    "y_pred = wide_model.predict(X_test).argmax(axis=1)\n",
    "\n",
    "cm = confusion_matrix(y_test, y_pred)\n",
    "disp = ConfusionMatrixDisplay(confusion_matrix=cm)\n",
    "disp.plot(cmap=plt.cm.Blues)\n",
    "plt.show()"
   ]
  },
  {
   "cell_type": "markdown",
   "metadata": {},
   "source": [
    "The provided code snippet is part of a Python script that uses the Scikit-learn library to evaluate the performance of a neural network model, `wide_model`, trained for binary classification. It aims to display a confusion matrix, a critical tool in machine learning for assessing the accuracy of classification models.\n",
    "\n",
    "The process begins with generating predictions for the test dataset `X_test` using the `predict` method of the `wide_model`. These predictions are the model's estimated probabilities that the given inputs belong to the positive class. In binary classification tasks, such as the one implied here, the model typically outputs probabilities due to the sigmoid activation function in its final layer. However, the use of `argmax(axis=1)` suggests a misunderstanding of the model's output. In a binary classification setting, the output is a single probability value per instance. To derive the class labels from these probabilities, a common practice is to apply a threshold of 0.5, where probabilities above this value are interpreted as class 1, and below as class 0. The direct application of `argmax` is more suited to multi-class classification scenarios, where the model outputs a probability distribution across multiple classes, and the class with the highest probability is chosen as the prediction.\n",
    "\n",
    "After obtaining the predicted class labels (assuming they are correctly derived from the model's probabilities), the script computes the confusion matrix using Scikit-learn's `confusion_matrix` function, comparing the predicted labels `y_pred` with the actual labels `y_test` from the test set. This matrix is a two-dimensional array where each row represents the instances in an actual class while each column represents the instances in a predicted class, allowing for a detailed analysis of the model's performance across different classes.\n",
    "\n",
    "The `ConfusionMatrixDisplay` class is then utilized to visualize this matrix, enhancing interpretability. The confusion matrix is plotted with `plt.cm.Blues` color map, providing a visual representation of the model's accuracy in distinguishing between the classes. The darker squares along the diagonal indicate higher counts of true positives and true negatives, where the model's predictions align with the actual labels, while lighter squares off the diagonal would represent misclassifications.\n",
    "\n",
    "This approach to performance evaluation is pivotal in understanding not just the overall accuracy of the model, but also how well it identifies each class, highlighting potential areas of strength or weakness in its predictive capabilities. It allows data scientists to pinpoint specific types of errors the model is making (such as false positives or false negatives), which is crucial for iteratively improving the model and for understanding the model's behavior in practical applications."
   ]
  },
  {
   "cell_type": "markdown",
   "metadata": {},
   "source": [
    "## Wide and Deep Network"
   ]
  },
  {
   "cell_type": "code",
   "execution_count": 65,
   "metadata": {},
   "outputs": [],
   "source": [
    "# X_train_flattened = X_train.reshape(-1, 28*28)\n",
    "# X_test_flattened = X_test.reshape(-1, 28*28)\n"
   ]
  },
  {
   "cell_type": "code",
   "execution_count": 66,
   "metadata": {},
   "outputs": [
    {
     "name": "stdout",
     "output_type": "stream",
     "text": [
      "CPU times: total: 0 ns\n",
      "Wall time: 0 ns\n"
     ]
    }
   ],
   "source": [
    "%%time\n",
    "\n",
    "#Define the model: for multi-class\n",
    "\n",
    "from keras.models import Model\n",
    "from keras.layers import Input, Dense, concatenate, Normalization\n",
    "from keras.utils import plot_model\n"
   ]
  },
  {
   "cell_type": "markdown",
   "metadata": {},
   "source": [
    "The code snippet begins with the `%%time` magic command, which is commonly used in Jupyter Notebooks or IPython environments to measure the execution time of a cell. However, in this context, it does not execute any code and therefore shows zero time taken.\n",
    "\n",
    "Moving on to the code itself, it is aimed at defining a neural network model for a multi-class classification task using the Keras library. The first step is importing necessary modules: `Model` from `keras.models`, `Input`, `Dense`, `concatenate`, and `Normalization` from `keras.layers`, and `plot_model` from `keras.utils`. These modules provide essential functionalities for building and visualizing neural network architectures.\n",
    "\n",
    "The `Input` layer is used to define the shape of the input data that the neural network will receive. In this case, it's unspecified in the snippet but would typically correspond to the number of features in the input data.\n",
    "\n",
    "Next, the model architecture is defined using the Functional API of Keras. The `Dense` layers represent fully connected layers in the neural network, where each neuron in a layer is connected to every neuron in the previous layer. The `concatenate` layer is used for merging multiple layers or tensors along a specified axis. This is useful in scenarios where features are extracted from different parts of the network and need to be combined before making predictions.\n",
    "\n",
    "Additionally, the `Normalization` layer suggests the inclusion of data normalization or standardization, a preprocessing step commonly used to scale input features to a standard range, which can improve model convergence and performance, especially in deep learning models.\n",
    "\n",
    "The `plot_model` function, although not utilized in the code snippet, is often employed to generate a visual representation of the model's architecture, aiding in understanding the network's structure and connectivity.\n",
    "\n",
    "Overall, the code snippet sets the groundwork for defining a multi-class classification neural network model using Keras, incorporating input normalization and potentially complex network architectures with concatenated layers."
   ]
  },
  {
   "cell_type": "code",
   "execution_count": 67,
   "metadata": {},
   "outputs": [],
   "source": [
    "normalization_layer = tf.keras.layers.Normalization()\n",
    "deep_layer1 = tf.keras.layers.Dense(10, activation=\"relu\")\n",
    "deep_layer2 = tf.keras.layers.Dense(50, activation=\"relu\")\n",
    "deep_layer3 = tf.keras.layers.Dense(50, activation=\"relu\")\n",
    "deep_layer3 = tf.keras.layers.Dense(50, activation=\"relu\")\n",
    "wide_layer1 = tf.keras.layers.Dense(10, activation=\"relu\")\n",
    "concat_layer = tf.keras.layers.Concatenate()\n",
    "output_layer = tf.keras.layers.Dense(1, activation=\"softmax\")\n",
    "#\n",
    "input_ = tf.keras.layers.Input(shape=X_train.shape[1:])\n",
    "normalized = normalization_layer(input_)\n",
    "deep1 = deep_layer1(normalized)\n",
    "deep2 = deep_layer2(deep1)\n",
    "deep3 = deep_layer3(deep2)\n",
    "wide1 = wide_layer1(normalized)\n",
    "concat = concat_layer([deep3, wide1])\n",
    "output = output_layer(concat)\n",
    "#\n",
    "model = tf.keras.Model(inputs=[input_], outputs=[output])\n"
   ]
  },
  {
   "cell_type": "markdown",
   "metadata": {},
   "source": [
    "The provided code snippet demonstrates the construction of a neural network model using TensorFlow's Keras API for a classification task. It begins by importing the necessary modules and defining various layers for the neural network. \n",
    "\n",
    "The `Normalization` layer is introduced, indicating the inclusion of data normalization as a preprocessing step to scale input features, which can enhance model training and convergence. This layer is designed to normalize the input data by centering it around the mean and scaling it to unit variance.\n",
    "\n",
    "Following the normalization layer, several dense layers (`Dense`) are defined with different configurations, such as varying numbers of units and activation functions like ReLU (Rectified Linear Unit). These dense layers are essential components that perform linear transformations on the input data, followed by nonlinear activations, enabling the network to learn complex patterns and relationships within the data.\n",
    "\n",
    "Additionally, a concatenation layer (`Concatenate`) is included, suggesting that the model may combine features extracted from both deep and wide paths of the network. This technique, known as wide and deep learning, aims to capture both low-level and high-level features, offering a balance between memorization and generalization capabilities.\n",
    "\n",
    "Finally, an output layer (`Dense`) with a softmax activation function is defined for multi-class classification, indicating that the model aims to predict probabilities across multiple classes.\n",
    "\n",
    "The code concludes by assembling the layers into a functional model (`tf.keras.Model`) using the Functional API provided by TensorFlow's Keras. This model takes input data, processes it through the defined layers, and produces an output that represents the model's predictions."
   ]
  },
  {
   "cell_type": "code",
   "execution_count": 68,
   "metadata": {},
   "outputs": [],
   "source": [
    "\n",
    "model.compile(optimizer='adam', loss='binary_crossentropy', metrics=['accuracy'])\n"
   ]
  },
  {
   "cell_type": "markdown",
   "metadata": {},
   "source": [
    "The `model.compile()` function in TensorFlow's Keras API is used to configure the learning process for the neural network model before training. Here's an interpretation of the parameters used in `model.compile(optimizer='adam', loss='binary_crossentropy', metrics=['accuracy'])`:\n",
    "\n",
    "- `optimizer='adam'`: This specifies the optimizer algorithm to use during training. In this case, 'adam' refers to the Adam optimizer, which is an adaptive learning rate optimization algorithm that combines the advantages of AdaGrad and RMSProp algorithms. Adam is widely used due to its efficiency and effectiveness in training deep learning models.\n",
    "\n",
    "- `loss='binary_crossentropy'`: This parameter sets the loss function used to measure the difference between the model's predictions and the actual target values during training. The 'binary_crossentropy' loss is typically used for binary classification tasks, where the model predicts probabilities for two classes. It calculates the cross-entropy loss between the true binary labels and the predicted probabilities.\n",
    "\n",
    "- `metrics=['accuracy']`: This specifies the evaluation metric(s) to monitor during training and validation. In this case, 'accuracy' is chosen as the metric, which measures the percentage of correct predictions made by the model compared to the actual labels. It is a common metric for classification tasks and provides a straightforward interpretation of the model's performance in terms of classification accuracy.\n",
    "\n",
    "In summary, the `model.compile()` function configures the model for training using the Adam optimizer, binary cross-entropy loss for a binary classification task, and accuracy as the evaluation metric to assess the model's performance."
   ]
  },
  {
   "cell_type": "code",
   "execution_count": 69,
   "metadata": {},
   "outputs": [
    {
     "data": {
      "text/html": [
       "<pre style=\"white-space:pre;overflow-x:auto;line-height:normal;font-family:Menlo,'DejaVu Sans Mono',consolas,'Courier New',monospace\"><span style=\"font-weight: bold\">Model: \"functional_17\"</span>\n",
       "</pre>\n"
      ],
      "text/plain": [
       "\u001b[1mModel: \"functional_17\"\u001b[0m\n"
      ]
     },
     "metadata": {},
     "output_type": "display_data"
    },
    {
     "data": {
      "text/html": [
       "<pre style=\"white-space:pre;overflow-x:auto;line-height:normal;font-family:Menlo,'DejaVu Sans Mono',consolas,'Courier New',monospace\">┏━━━━━━━━━━━━━━━━━━━━━┳━━━━━━━━━━━━━━━━━━━┳━━━━━━━━━━━━┳━━━━━━━━━━━━━━━━━━━┓\n",
       "┃<span style=\"font-weight: bold\"> Layer (type)        </span>┃<span style=\"font-weight: bold\"> Output Shape      </span>┃<span style=\"font-weight: bold\">    Param # </span>┃<span style=\"font-weight: bold\"> Connected to      </span>┃\n",
       "┡━━━━━━━━━━━━━━━━━━━━━╇━━━━━━━━━━━━━━━━━━━╇━━━━━━━━━━━━╇━━━━━━━━━━━━━━━━━━━┩\n",
       "│ input_layer_5       │ (<span style=\"color: #00d7ff; text-decoration-color: #00d7ff\">None</span>, <span style=\"color: #00af00; text-decoration-color: #00af00\">10</span>)        │          <span style=\"color: #00af00; text-decoration-color: #00af00\">0</span> │ -                 │\n",
       "│ (<span style=\"color: #0087ff; text-decoration-color: #0087ff\">InputLayer</span>)        │                   │            │                   │\n",
       "├─────────────────────┼───────────────────┼────────────┼───────────────────┤\n",
       "│ normalization_1     │ (<span style=\"color: #00d7ff; text-decoration-color: #00d7ff\">None</span>, <span style=\"color: #00af00; text-decoration-color: #00af00\">10</span>)        │         <span style=\"color: #00af00; text-decoration-color: #00af00\">21</span> │ input_layer_5[<span style=\"color: #00af00; text-decoration-color: #00af00\">0</span>]… │\n",
       "│ (<span style=\"color: #0087ff; text-decoration-color: #0087ff\">Normalization</span>)     │                   │            │                   │\n",
       "├─────────────────────┼───────────────────┼────────────┼───────────────────┤\n",
       "│ dense_18 (<span style=\"color: #0087ff; text-decoration-color: #0087ff\">Dense</span>)    │ (<span style=\"color: #00d7ff; text-decoration-color: #00d7ff\">None</span>, <span style=\"color: #00af00; text-decoration-color: #00af00\">10</span>)        │        <span style=\"color: #00af00; text-decoration-color: #00af00\">110</span> │ normalization_1[<span style=\"color: #00af00; text-decoration-color: #00af00\">…</span> │\n",
       "├─────────────────────┼───────────────────┼────────────┼───────────────────┤\n",
       "│ dense_19 (<span style=\"color: #0087ff; text-decoration-color: #0087ff\">Dense</span>)    │ (<span style=\"color: #00d7ff; text-decoration-color: #00d7ff\">None</span>, <span style=\"color: #00af00; text-decoration-color: #00af00\">50</span>)        │        <span style=\"color: #00af00; text-decoration-color: #00af00\">550</span> │ dense_18[<span style=\"color: #00af00; text-decoration-color: #00af00\">0</span>][<span style=\"color: #00af00; text-decoration-color: #00af00\">0</span>]    │\n",
       "├─────────────────────┼───────────────────┼────────────┼───────────────────┤\n",
       "│ dense_21 (<span style=\"color: #0087ff; text-decoration-color: #0087ff\">Dense</span>)    │ (<span style=\"color: #00d7ff; text-decoration-color: #00d7ff\">None</span>, <span style=\"color: #00af00; text-decoration-color: #00af00\">50</span>)        │      <span style=\"color: #00af00; text-decoration-color: #00af00\">2,550</span> │ dense_19[<span style=\"color: #00af00; text-decoration-color: #00af00\">0</span>][<span style=\"color: #00af00; text-decoration-color: #00af00\">0</span>]    │\n",
       "├─────────────────────┼───────────────────┼────────────┼───────────────────┤\n",
       "│ dense_22 (<span style=\"color: #0087ff; text-decoration-color: #0087ff\">Dense</span>)    │ (<span style=\"color: #00d7ff; text-decoration-color: #00d7ff\">None</span>, <span style=\"color: #00af00; text-decoration-color: #00af00\">10</span>)        │        <span style=\"color: #00af00; text-decoration-color: #00af00\">110</span> │ normalization_1[<span style=\"color: #00af00; text-decoration-color: #00af00\">…</span> │\n",
       "├─────────────────────┼───────────────────┼────────────┼───────────────────┤\n",
       "│ concatenate_1       │ (<span style=\"color: #00d7ff; text-decoration-color: #00d7ff\">None</span>, <span style=\"color: #00af00; text-decoration-color: #00af00\">60</span>)        │          <span style=\"color: #00af00; text-decoration-color: #00af00\">0</span> │ dense_21[<span style=\"color: #00af00; text-decoration-color: #00af00\">0</span>][<span style=\"color: #00af00; text-decoration-color: #00af00\">0</span>],   │\n",
       "│ (<span style=\"color: #0087ff; text-decoration-color: #0087ff\">Concatenate</span>)       │                   │            │ dense_22[<span style=\"color: #00af00; text-decoration-color: #00af00\">0</span>][<span style=\"color: #00af00; text-decoration-color: #00af00\">0</span>]    │\n",
       "├─────────────────────┼───────────────────┼────────────┼───────────────────┤\n",
       "│ dense_23 (<span style=\"color: #0087ff; text-decoration-color: #0087ff\">Dense</span>)    │ (<span style=\"color: #00d7ff; text-decoration-color: #00d7ff\">None</span>, <span style=\"color: #00af00; text-decoration-color: #00af00\">1</span>)         │         <span style=\"color: #00af00; text-decoration-color: #00af00\">61</span> │ concatenate_1[<span style=\"color: #00af00; text-decoration-color: #00af00\">0</span>]… │\n",
       "└─────────────────────┴───────────────────┴────────────┴───────────────────┘\n",
       "</pre>\n"
      ],
      "text/plain": [
       "┏━━━━━━━━━━━━━━━━━━━━━┳━━━━━━━━━━━━━━━━━━━┳━━━━━━━━━━━━┳━━━━━━━━━━━━━━━━━━━┓\n",
       "┃\u001b[1m \u001b[0m\u001b[1mLayer (type)       \u001b[0m\u001b[1m \u001b[0m┃\u001b[1m \u001b[0m\u001b[1mOutput Shape     \u001b[0m\u001b[1m \u001b[0m┃\u001b[1m \u001b[0m\u001b[1m   Param #\u001b[0m\u001b[1m \u001b[0m┃\u001b[1m \u001b[0m\u001b[1mConnected to     \u001b[0m\u001b[1m \u001b[0m┃\n",
       "┡━━━━━━━━━━━━━━━━━━━━━╇━━━━━━━━━━━━━━━━━━━╇━━━━━━━━━━━━╇━━━━━━━━━━━━━━━━━━━┩\n",
       "│ input_layer_5       │ (\u001b[38;5;45mNone\u001b[0m, \u001b[38;5;34m10\u001b[0m)        │          \u001b[38;5;34m0\u001b[0m │ -                 │\n",
       "│ (\u001b[38;5;33mInputLayer\u001b[0m)        │                   │            │                   │\n",
       "├─────────────────────┼───────────────────┼────────────┼───────────────────┤\n",
       "│ normalization_1     │ (\u001b[38;5;45mNone\u001b[0m, \u001b[38;5;34m10\u001b[0m)        │         \u001b[38;5;34m21\u001b[0m │ input_layer_5[\u001b[38;5;34m0\u001b[0m]… │\n",
       "│ (\u001b[38;5;33mNormalization\u001b[0m)     │                   │            │                   │\n",
       "├─────────────────────┼───────────────────┼────────────┼───────────────────┤\n",
       "│ dense_18 (\u001b[38;5;33mDense\u001b[0m)    │ (\u001b[38;5;45mNone\u001b[0m, \u001b[38;5;34m10\u001b[0m)        │        \u001b[38;5;34m110\u001b[0m │ normalization_1[\u001b[38;5;34m…\u001b[0m │\n",
       "├─────────────────────┼───────────────────┼────────────┼───────────────────┤\n",
       "│ dense_19 (\u001b[38;5;33mDense\u001b[0m)    │ (\u001b[38;5;45mNone\u001b[0m, \u001b[38;5;34m50\u001b[0m)        │        \u001b[38;5;34m550\u001b[0m │ dense_18[\u001b[38;5;34m0\u001b[0m][\u001b[38;5;34m0\u001b[0m]    │\n",
       "├─────────────────────┼───────────────────┼────────────┼───────────────────┤\n",
       "│ dense_21 (\u001b[38;5;33mDense\u001b[0m)    │ (\u001b[38;5;45mNone\u001b[0m, \u001b[38;5;34m50\u001b[0m)        │      \u001b[38;5;34m2,550\u001b[0m │ dense_19[\u001b[38;5;34m0\u001b[0m][\u001b[38;5;34m0\u001b[0m]    │\n",
       "├─────────────────────┼───────────────────┼────────────┼───────────────────┤\n",
       "│ dense_22 (\u001b[38;5;33mDense\u001b[0m)    │ (\u001b[38;5;45mNone\u001b[0m, \u001b[38;5;34m10\u001b[0m)        │        \u001b[38;5;34m110\u001b[0m │ normalization_1[\u001b[38;5;34m…\u001b[0m │\n",
       "├─────────────────────┼───────────────────┼────────────┼───────────────────┤\n",
       "│ concatenate_1       │ (\u001b[38;5;45mNone\u001b[0m, \u001b[38;5;34m60\u001b[0m)        │          \u001b[38;5;34m0\u001b[0m │ dense_21[\u001b[38;5;34m0\u001b[0m][\u001b[38;5;34m0\u001b[0m],   │\n",
       "│ (\u001b[38;5;33mConcatenate\u001b[0m)       │                   │            │ dense_22[\u001b[38;5;34m0\u001b[0m][\u001b[38;5;34m0\u001b[0m]    │\n",
       "├─────────────────────┼───────────────────┼────────────┼───────────────────┤\n",
       "│ dense_23 (\u001b[38;5;33mDense\u001b[0m)    │ (\u001b[38;5;45mNone\u001b[0m, \u001b[38;5;34m1\u001b[0m)         │         \u001b[38;5;34m61\u001b[0m │ concatenate_1[\u001b[38;5;34m0\u001b[0m]… │\n",
       "└─────────────────────┴───────────────────┴────────────┴───────────────────┘\n"
      ]
     },
     "metadata": {},
     "output_type": "display_data"
    },
    {
     "data": {
      "text/html": [
       "<pre style=\"white-space:pre;overflow-x:auto;line-height:normal;font-family:Menlo,'DejaVu Sans Mono',consolas,'Courier New',monospace\"><span style=\"font-weight: bold\"> Total params: </span><span style=\"color: #00af00; text-decoration-color: #00af00\">3,402</span> (13.29 KB)\n",
       "</pre>\n"
      ],
      "text/plain": [
       "\u001b[1m Total params: \u001b[0m\u001b[38;5;34m3,402\u001b[0m (13.29 KB)\n"
      ]
     },
     "metadata": {},
     "output_type": "display_data"
    },
    {
     "data": {
      "text/html": [
       "<pre style=\"white-space:pre;overflow-x:auto;line-height:normal;font-family:Menlo,'DejaVu Sans Mono',consolas,'Courier New',monospace\"><span style=\"font-weight: bold\"> Trainable params: </span><span style=\"color: #00af00; text-decoration-color: #00af00\">3,381</span> (13.21 KB)\n",
       "</pre>\n"
      ],
      "text/plain": [
       "\u001b[1m Trainable params: \u001b[0m\u001b[38;5;34m3,381\u001b[0m (13.21 KB)\n"
      ]
     },
     "metadata": {},
     "output_type": "display_data"
    },
    {
     "data": {
      "text/html": [
       "<pre style=\"white-space:pre;overflow-x:auto;line-height:normal;font-family:Menlo,'DejaVu Sans Mono',consolas,'Courier New',monospace\"><span style=\"font-weight: bold\"> Non-trainable params: </span><span style=\"color: #00af00; text-decoration-color: #00af00\">21</span> (88.00 B)\n",
       "</pre>\n"
      ],
      "text/plain": [
       "\u001b[1m Non-trainable params: \u001b[0m\u001b[38;5;34m21\u001b[0m (88.00 B)\n"
      ]
     },
     "metadata": {},
     "output_type": "display_data"
    }
   ],
   "source": [
    "model.summary()"
   ]
  },
  {
   "cell_type": "markdown",
   "metadata": {},
   "source": [
    "The `model.summary()` function in TensorFlow's Keras API provides a concise overview of the neural network model's architecture, including details about each layer, its output shape, the number of trainable parameters (weights and biases), and the connections between layers. Here's an interpretation of the output from `model.summary()` for the given model:\n",
    "\n",
    "- **Input Layer (InputLayer)**: This layer represents the input data with a shape of (None, 10), where 'None' indicates that the batch size can vary and '10' represents the number of features in the input.\n",
    "\n",
    "- **Normalization Layer (Normalization)**: The normalization layer normalizes the input data to have zero mean and unit variance. It has 21 parameters, which are internally managed by the normalization process and are not trainable.\n",
    "\n",
    "- **Dense Layers (Dense)**: There are three dense layers in the model:\n",
    "  - dense_6: This layer has 10 units and is connected to the output of the normalization layer. It has 110 trainable parameters.\n",
    "  - dense_7: This layer has 50 units and is connected to dense_6. It has 550 trainable parameters.\n",
    "  - dense_9: This layer has 50 units and is connected to dense_7. It has 2,550 trainable parameters.\n",
    "  - dense_10: This layer has 10 units and is connected to the output of the normalization layer. It has 110 trainable parameters.\n",
    "\n",
    "- **Concatenate Layer (Concatenate)**: The concatenate layer combines the outputs of dense_9 and dense_10 into a single output with a shape of (None, 60). This layer does not have any trainable parameters as it simply concatenates the inputs.\n",
    "\n",
    "- **Output Layer (Dense)**: The output layer is a dense layer with 1 unit and a softmax activation function, used for multi-class classification tasks. It has 61 trainable parameters.\n",
    "\n",
    "- **Total Parameters**: The model has a total of 3,402 parameters, out of which 3,381 are trainable parameters (weights and biases), and 21 are non-trainable parameters managed by the normalization layer.\n",
    "\n",
    "This summary provides insights into the model's structure, the flow of data through different layers, and the number of parameters that will be optimized during training."
   ]
  },
  {
   "cell_type": "code",
   "execution_count": 70,
   "metadata": {},
   "outputs": [
    {
     "name": "stdout",
     "output_type": "stream",
     "text": [
      "Epoch 1/50\n"
     ]
    },
    {
     "name": "stderr",
     "output_type": "stream",
     "text": [
      "C:\\Users\\vadla\\anaconda3\\Lib\\site-packages\\keras\\src\\ops\\nn.py:545: UserWarning: You are using a softmax over axis -1 of a tensor of shape (None, 1). This axis has size 1. The softmax operation will always return the value 1, which is likely not what you intended. Did you mean to use a sigmoid instead?\n",
      "  warnings.warn(\n"
     ]
    },
    {
     "name": "stdout",
     "output_type": "stream",
     "text": [
      "\u001b[1m1/1\u001b[0m \u001b[32m━━━━━━━━━━━━━━━━━━━━\u001b[0m\u001b[37m\u001b[0m \u001b[1m4s\u001b[0m 4s/step - accuracy: 0.5104 - loss: 11.8063 - val_accuracy: 0.4897 - val_loss: nan\n",
      "Epoch 2/50\n",
      "\u001b[1m1/1\u001b[0m \u001b[32m━━━━━━━━━━━━━━━━━━━━\u001b[0m\u001b[37m\u001b[0m \u001b[1m0s\u001b[0m 79ms/step - accuracy: 0.5104 - loss: 10.6729 - val_accuracy: 0.4897 - val_loss: nan\n",
      "Epoch 3/50\n",
      "\u001b[1m1/1\u001b[0m \u001b[32m━━━━━━━━━━━━━━━━━━━━\u001b[0m\u001b[37m\u001b[0m \u001b[1m0s\u001b[0m 96ms/step - accuracy: 0.5104 - loss: 9.5542 - val_accuracy: 0.4897 - val_loss: nan\n",
      "Epoch 4/50\n",
      "\u001b[1m1/1\u001b[0m \u001b[32m━━━━━━━━━━━━━━━━━━━━\u001b[0m\u001b[37m\u001b[0m \u001b[1m0s\u001b[0m 94ms/step - accuracy: 0.5104 - loss: 8.4494 - val_accuracy: 0.4897 - val_loss: nan\n",
      "Epoch 5/50\n",
      "\u001b[1m1/1\u001b[0m \u001b[32m━━━━━━━━━━━━━━━━━━━━\u001b[0m\u001b[37m\u001b[0m \u001b[1m0s\u001b[0m 97ms/step - accuracy: 0.5104 - loss: 7.3589 - val_accuracy: 0.4897 - val_loss: nan\n",
      "Epoch 6/50\n",
      "\u001b[1m1/1\u001b[0m \u001b[32m━━━━━━━━━━━━━━━━━━━━\u001b[0m\u001b[37m\u001b[0m \u001b[1m0s\u001b[0m 117ms/step - accuracy: 0.5104 - loss: 6.2839 - val_accuracy: 0.4897 - val_loss: nan\n",
      "Epoch 7/50\n",
      "\u001b[1m1/1\u001b[0m \u001b[32m━━━━━━━━━━━━━━━━━━━━\u001b[0m\u001b[37m\u001b[0m \u001b[1m0s\u001b[0m 96ms/step - accuracy: 0.5104 - loss: 5.2312 - val_accuracy: 0.4897 - val_loss: nan\n",
      "Epoch 8/50\n",
      "\u001b[1m1/1\u001b[0m \u001b[32m━━━━━━━━━━━━━━━━━━━━\u001b[0m\u001b[37m\u001b[0m \u001b[1m0s\u001b[0m 78ms/step - accuracy: 0.5104 - loss: 4.2292 - val_accuracy: 0.4897 - val_loss: nan\n",
      "Epoch 9/50\n",
      "\u001b[1m1/1\u001b[0m \u001b[32m━━━━━━━━━━━━━━━━━━━━\u001b[0m\u001b[37m\u001b[0m \u001b[1m0s\u001b[0m 79ms/step - accuracy: 0.5104 - loss: 3.3069 - val_accuracy: 0.4897 - val_loss: nan\n",
      "Epoch 10/50\n",
      "\u001b[1m1/1\u001b[0m \u001b[32m━━━━━━━━━━━━━━━━━━━━\u001b[0m\u001b[37m\u001b[0m \u001b[1m0s\u001b[0m 95ms/step - accuracy: 0.5104 - loss: 2.4898 - val_accuracy: 0.4897 - val_loss: nan\n",
      "Epoch 11/50\n",
      "\u001b[1m1/1\u001b[0m \u001b[32m━━━━━━━━━━━━━━━━━━━━\u001b[0m\u001b[37m\u001b[0m \u001b[1m0s\u001b[0m 96ms/step - accuracy: 0.5104 - loss: 1.8308 - val_accuracy: 0.4897 - val_loss: nan\n",
      "Epoch 12/50\n",
      "\u001b[1m1/1\u001b[0m \u001b[32m━━━━━━━━━━━━━━━━━━━━\u001b[0m\u001b[37m\u001b[0m \u001b[1m0s\u001b[0m 79ms/step - accuracy: 0.5104 - loss: 1.3855 - val_accuracy: 0.4897 - val_loss: nan\n",
      "Epoch 13/50\n",
      "\u001b[1m1/1\u001b[0m \u001b[32m━━━━━━━━━━━━━━━━━━━━\u001b[0m\u001b[37m\u001b[0m \u001b[1m0s\u001b[0m 80ms/step - accuracy: 0.5104 - loss: 1.1219 - val_accuracy: 0.4897 - val_loss: nan\n",
      "Epoch 14/50\n",
      "\u001b[1m1/1\u001b[0m \u001b[32m━━━━━━━━━━━━━━━━━━━━\u001b[0m\u001b[37m\u001b[0m \u001b[1m0s\u001b[0m 96ms/step - accuracy: 0.5104 - loss: 0.9956 - val_accuracy: 0.4897 - val_loss: nan\n",
      "Epoch 15/50\n",
      "\u001b[1m1/1\u001b[0m \u001b[32m━━━━━━━━━━━━━━━━━━━━\u001b[0m\u001b[37m\u001b[0m \u001b[1m0s\u001b[0m 94ms/step - accuracy: 0.5104 - loss: 0.9699 - val_accuracy: 0.4897 - val_loss: nan\n",
      "Epoch 16/50\n",
      "\u001b[1m1/1\u001b[0m \u001b[32m━━━━━━━━━━━━━━━━━━━━\u001b[0m\u001b[37m\u001b[0m \u001b[1m0s\u001b[0m 94ms/step - accuracy: 0.5104 - loss: 1.0486 - val_accuracy: 0.4897 - val_loss: nan\n",
      "Epoch 17/50\n",
      "\u001b[1m1/1\u001b[0m \u001b[32m━━━━━━━━━━━━━━━━━━━━\u001b[0m\u001b[37m\u001b[0m \u001b[1m0s\u001b[0m 111ms/step - accuracy: 0.5104 - loss: 1.2989 - val_accuracy: 0.4897 - val_loss: nan\n",
      "Epoch 18/50\n",
      "\u001b[1m1/1\u001b[0m \u001b[32m━━━━━━━━━━━━━━━━━━━━\u001b[0m\u001b[37m\u001b[0m \u001b[1m0s\u001b[0m 85ms/step - accuracy: 0.5104 - loss: 1.6170 - val_accuracy: 0.4897 - val_loss: nan\n",
      "Epoch 19/50\n",
      "\u001b[1m1/1\u001b[0m \u001b[32m━━━━━━━━━━━━━━━━━━━━\u001b[0m\u001b[37m\u001b[0m \u001b[1m0s\u001b[0m 91ms/step - accuracy: 0.5104 - loss: 1.7489 - val_accuracy: 0.4897 - val_loss: nan\n",
      "Epoch 20/50\n",
      "\u001b[1m1/1\u001b[0m \u001b[32m━━━━━━━━━━━━━━━━━━━━\u001b[0m\u001b[37m\u001b[0m \u001b[1m0s\u001b[0m 96ms/step - accuracy: 0.5104 - loss: 1.6544 - val_accuracy: 0.4897 - val_loss: nan\n",
      "Epoch 21/50\n",
      "\u001b[1m1/1\u001b[0m \u001b[32m━━━━━━━━━━━━━━━━━━━━\u001b[0m\u001b[37m\u001b[0m \u001b[1m0s\u001b[0m 111ms/step - accuracy: 0.5104 - loss: 1.4432 - val_accuracy: 0.4897 - val_loss: nan\n",
      "Epoch 22/50\n",
      "\u001b[1m1/1\u001b[0m \u001b[32m━━━━━━━━━━━━━━━━━━━━\u001b[0m\u001b[37m\u001b[0m \u001b[1m0s\u001b[0m 79ms/step - accuracy: 0.5104 - loss: 1.2420 - val_accuracy: 0.4897 - val_loss: nan\n",
      "Epoch 23/50\n",
      "\u001b[1m1/1\u001b[0m \u001b[32m━━━━━━━━━━━━━━━━━━━━\u001b[0m\u001b[37m\u001b[0m \u001b[1m0s\u001b[0m 95ms/step - accuracy: 0.5104 - loss: 1.1170 - val_accuracy: 0.4897 - val_loss: nan\n",
      "Epoch 24/50\n",
      "\u001b[1m1/1\u001b[0m \u001b[32m━━━━━━━━━━━━━━━━━━━━\u001b[0m\u001b[37m\u001b[0m \u001b[1m0s\u001b[0m 88ms/step - accuracy: 0.5104 - loss: 1.0492 - val_accuracy: 0.4897 - val_loss: nan\n",
      "Epoch 25/50\n",
      "\u001b[1m1/1\u001b[0m \u001b[32m━━━━━━━━━━━━━━━━━━━━\u001b[0m\u001b[37m\u001b[0m \u001b[1m0s\u001b[0m 79ms/step - accuracy: 0.5104 - loss: 1.0113 - val_accuracy: 0.4897 - val_loss: nan\n",
      "Epoch 26/50\n",
      "\u001b[1m1/1\u001b[0m \u001b[32m━━━━━━━━━━━━━━━━━━━━\u001b[0m\u001b[37m\u001b[0m \u001b[1m0s\u001b[0m 82ms/step - accuracy: 0.5104 - loss: 0.9867 - val_accuracy: 0.4897 - val_loss: nan\n",
      "Epoch 27/50\n",
      "\u001b[1m1/1\u001b[0m \u001b[32m━━━━━━━━━━━━━━━━━━━━\u001b[0m\u001b[37m\u001b[0m \u001b[1m0s\u001b[0m 92ms/step - accuracy: 0.5104 - loss: 0.9663 - val_accuracy: 0.4897 - val_loss: nan\n",
      "Epoch 28/50\n",
      "\u001b[1m1/1\u001b[0m \u001b[32m━━━━━━━━━━━━━━━━━━━━\u001b[0m\u001b[37m\u001b[0m \u001b[1m0s\u001b[0m 79ms/step - accuracy: 0.5104 - loss: 0.9471 - val_accuracy: 0.4897 - val_loss: nan\n",
      "Epoch 29/50\n",
      "\u001b[1m1/1\u001b[0m \u001b[32m━━━━━━━━━━━━━━━━━━━━\u001b[0m\u001b[37m\u001b[0m \u001b[1m0s\u001b[0m 111ms/step - accuracy: 0.5104 - loss: 0.9270 - val_accuracy: 0.4897 - val_loss: nan\n",
      "Epoch 30/50\n",
      "\u001b[1m1/1\u001b[0m \u001b[32m━━━━━━━━━━━━━━━━━━━━\u001b[0m\u001b[37m\u001b[0m \u001b[1m0s\u001b[0m 96ms/step - accuracy: 0.5104 - loss: 0.9044 - val_accuracy: 0.4897 - val_loss: nan\n",
      "Epoch 31/50\n",
      "\u001b[1m1/1\u001b[0m \u001b[32m━━━━━━━━━━━━━━━━━━━━\u001b[0m\u001b[37m\u001b[0m \u001b[1m0s\u001b[0m 111ms/step - accuracy: 0.5104 - loss: 0.8785 - val_accuracy: 0.4897 - val_loss: nan\n",
      "Epoch 32/50\n",
      "\u001b[1m1/1\u001b[0m \u001b[32m━━━━━━━━━━━━━━━━━━━━\u001b[0m\u001b[37m\u001b[0m \u001b[1m0s\u001b[0m 95ms/step - accuracy: 0.5104 - loss: 0.8487 - val_accuracy: 0.4897 - val_loss: nan\n",
      "Epoch 33/50\n",
      "\u001b[1m1/1\u001b[0m \u001b[32m━━━━━━━━━━━━━━━━━━━━\u001b[0m\u001b[37m\u001b[0m \u001b[1m0s\u001b[0m 95ms/step - accuracy: 0.5104 - loss: 0.8151 - val_accuracy: 0.4897 - val_loss: nan\n",
      "Epoch 34/50\n",
      "\u001b[1m1/1\u001b[0m \u001b[32m━━━━━━━━━━━━━━━━━━━━\u001b[0m\u001b[37m\u001b[0m \u001b[1m0s\u001b[0m 95ms/step - accuracy: 0.5104 - loss: 0.7777 - val_accuracy: 0.4897 - val_loss: nan\n",
      "Epoch 35/50\n",
      "\u001b[1m1/1\u001b[0m \u001b[32m━━━━━━━━━━━━━━━━━━━━\u001b[0m\u001b[37m\u001b[0m \u001b[1m0s\u001b[0m 91ms/step - accuracy: 0.5104 - loss: 0.7369 - val_accuracy: 0.4897 - val_loss: nan\n",
      "Epoch 36/50\n",
      "\u001b[1m1/1\u001b[0m \u001b[32m━━━━━━━━━━━━━━━━━━━━\u001b[0m\u001b[37m\u001b[0m \u001b[1m0s\u001b[0m 95ms/step - accuracy: 0.5104 - loss: 0.6928 - val_accuracy: 0.4897 - val_loss: nan\n",
      "Epoch 37/50\n",
      "\u001b[1m1/1\u001b[0m \u001b[32m━━━━━━━━━━━━━━━━━━━━\u001b[0m\u001b[37m\u001b[0m \u001b[1m0s\u001b[0m 91ms/step - accuracy: 0.5104 - loss: 0.6461 - val_accuracy: 0.4897 - val_loss: nan\n",
      "Epoch 38/50\n",
      "\u001b[1m1/1\u001b[0m \u001b[32m━━━━━━━━━━━━━━━━━━━━\u001b[0m\u001b[37m\u001b[0m \u001b[1m0s\u001b[0m 79ms/step - accuracy: 0.5104 - loss: 0.5989 - val_accuracy: 0.4897 - val_loss: nan\n",
      "Epoch 39/50\n",
      "\u001b[1m1/1\u001b[0m \u001b[32m━━━━━━━━━━━━━━━━━━━━\u001b[0m\u001b[37m\u001b[0m \u001b[1m0s\u001b[0m 83ms/step - accuracy: 0.5104 - loss: 0.5503 - val_accuracy: 0.4897 - val_loss: nan\n",
      "Epoch 40/50\n",
      "\u001b[1m1/1\u001b[0m \u001b[32m━━━━━━━━━━━━━━━━━━━━\u001b[0m\u001b[37m\u001b[0m \u001b[1m0s\u001b[0m 95ms/step - accuracy: 0.5104 - loss: 0.5013 - val_accuracy: 0.4897 - val_loss: nan\n",
      "Epoch 41/50\n",
      "\u001b[1m1/1\u001b[0m \u001b[32m━━━━━━━━━━━━━━━━━━━━\u001b[0m\u001b[37m\u001b[0m \u001b[1m0s\u001b[0m 95ms/step - accuracy: 0.5104 - loss: 0.4520 - val_accuracy: 0.4897 - val_loss: nan\n",
      "Epoch 42/50\n",
      "\u001b[1m1/1\u001b[0m \u001b[32m━━━━━━━━━━━━━━━━━━━━\u001b[0m\u001b[37m\u001b[0m \u001b[1m0s\u001b[0m 95ms/step - accuracy: 0.5104 - loss: 0.4061 - val_accuracy: 0.4897 - val_loss: nan\n",
      "Epoch 43/50\n",
      "\u001b[1m1/1\u001b[0m \u001b[32m━━━━━━━━━━━━━━━━━━━━\u001b[0m\u001b[37m\u001b[0m \u001b[1m0s\u001b[0m 104ms/step - accuracy: 0.5104 - loss: 0.3682 - val_accuracy: 0.4897 - val_loss: nan\n",
      "Epoch 44/50\n",
      "\u001b[1m1/1\u001b[0m \u001b[32m━━━━━━━━━━━━━━━━━━━━\u001b[0m\u001b[37m\u001b[0m \u001b[1m0s\u001b[0m 110ms/step - accuracy: 0.5104 - loss: 0.3408 - val_accuracy: 0.4897 - val_loss: nan\n",
      "Epoch 45/50\n",
      "\u001b[1m1/1\u001b[0m \u001b[32m━━━━━━━━━━━━━━━━━━━━\u001b[0m\u001b[37m\u001b[0m \u001b[1m0s\u001b[0m 115ms/step - accuracy: 0.5104 - loss: 0.3306 - val_accuracy: 0.4897 - val_loss: nan\n",
      "Epoch 46/50\n",
      "\u001b[1m1/1\u001b[0m \u001b[32m━━━━━━━━━━━━━━━━━━━━\u001b[0m\u001b[37m\u001b[0m \u001b[1m0s\u001b[0m 81ms/step - accuracy: 0.5104 - loss: 0.3394 - val_accuracy: 0.4897 - val_loss: nan\n",
      "Epoch 47/50\n",
      "\u001b[1m1/1\u001b[0m \u001b[32m━━━━━━━━━━━━━━━━━━━━\u001b[0m\u001b[37m\u001b[0m \u001b[1m0s\u001b[0m 94ms/step - accuracy: 0.5104 - loss: 0.3586 - val_accuracy: 0.4897 - val_loss: nan\n",
      "Epoch 48/50\n",
      "\u001b[1m1/1\u001b[0m \u001b[32m━━━━━━━━━━━━━━━━━━━━\u001b[0m\u001b[37m\u001b[0m \u001b[1m0s\u001b[0m 112ms/step - accuracy: 0.5104 - loss: 0.3711 - val_accuracy: 0.4897 - val_loss: nan\n",
      "Epoch 49/50\n",
      "\u001b[1m1/1\u001b[0m \u001b[32m━━━━━━━━━━━━━━━━━━━━\u001b[0m\u001b[37m\u001b[0m \u001b[1m0s\u001b[0m 79ms/step - accuracy: 0.5104 - loss: 0.3675 - val_accuracy: 0.4897 - val_loss: nan\n",
      "Epoch 50/50\n",
      "\u001b[1m1/1\u001b[0m \u001b[32m━━━━━━━━━━━━━━━━━━━━\u001b[0m\u001b[37m\u001b[0m \u001b[1m0s\u001b[0m 95ms/step - accuracy: 0.5104 - loss: 0.3491 - val_accuracy: 0.4897 - val_loss: nan\n"
     ]
    }
   ],
   "source": [
    "history = model.fit(X_train, y_train, \n",
    "                    validation_data=(X_test, y_test), \n",
    "                    epochs=epoch_num, batch_size=500)"
   ]
  },
  {
   "cell_type": "markdown",
   "metadata": {},
   "source": [
    "The provided code trains a neural network model using the `fit` method in TensorFlow/Keras. Here's an interpretation of the code along with the output:\n",
    "\n",
    "1. `history = model.fit(X_train, y_train, validation_data=(X_test, y_test), epochs=epoch_num, batch_size=500)`: This line of code trains the neural network model (`model`) using the training data (`X_train` and `y_train`) for a specified number of epochs (`epoch_num`) with a batch size of 500. It also uses the validation data (`X_test` and `y_test`) to evaluate the model's performance after each epoch. The training history is stored in the `history` variable.\n",
    "\n",
    "2. Output:\n",
    "   - Epoch 1/50: The model's training accuracy is 51.04%, with a training loss of 12.6975. The validation accuracy is 48.97%, and the validation loss is 'nan' (not a number), indicating an issue with the model's training or evaluation.\n",
    "   - Epochs 2-50: Similar information is provided for each epoch, showing the training and validation accuracy, as well as the training and validation loss. However, the accuracy and loss values do not improve significantly over the epochs, and the validation loss remains 'nan', suggesting a potential problem with the model or the data.\n",
    "\n",
    "The output suggests that the model's training is not successful, as indicated by the high loss values and the 'nan' validation loss. This could be due to various reasons such as incorrect data preprocessing, model architecture issues, or insufficient training data. Further investigation and debugging are needed to address these issues and improve the model's performance."
   ]
  },
  {
   "cell_type": "code",
   "execution_count": 71,
   "metadata": {},
   "outputs": [
    {
     "data": {
      "text/plain": [
       "[0.5103857517242432,\n",
       " 0.5103857517242432,\n",
       " 0.5103857517242432,\n",
       " 0.5103857517242432,\n",
       " 0.5103857517242432,\n",
       " 0.5103857517242432,\n",
       " 0.5103857517242432,\n",
       " 0.5103857517242432,\n",
       " 0.5103857517242432,\n",
       " 0.5103857517242432,\n",
       " 0.5103857517242432,\n",
       " 0.5103857517242432,\n",
       " 0.5103857517242432,\n",
       " 0.5103857517242432,\n",
       " 0.5103857517242432,\n",
       " 0.5103857517242432,\n",
       " 0.5103857517242432,\n",
       " 0.5103857517242432,\n",
       " 0.5103857517242432,\n",
       " 0.5103857517242432,\n",
       " 0.5103857517242432,\n",
       " 0.5103857517242432,\n",
       " 0.5103857517242432,\n",
       " 0.5103857517242432,\n",
       " 0.5103857517242432,\n",
       " 0.5103857517242432,\n",
       " 0.5103857517242432,\n",
       " 0.5103857517242432,\n",
       " 0.5103857517242432,\n",
       " 0.5103857517242432,\n",
       " 0.5103857517242432,\n",
       " 0.5103857517242432,\n",
       " 0.5103857517242432,\n",
       " 0.5103857517242432,\n",
       " 0.5103857517242432,\n",
       " 0.5103857517242432,\n",
       " 0.5103857517242432,\n",
       " 0.5103857517242432,\n",
       " 0.5103857517242432,\n",
       " 0.5103857517242432,\n",
       " 0.5103857517242432,\n",
       " 0.5103857517242432,\n",
       " 0.5103857517242432,\n",
       " 0.5103857517242432,\n",
       " 0.5103857517242432,\n",
       " 0.5103857517242432,\n",
       " 0.5103857517242432,\n",
       " 0.5103857517242432,\n",
       " 0.5103857517242432,\n",
       " 0.5103857517242432]"
      ]
     },
     "execution_count": 71,
     "metadata": {},
     "output_type": "execute_result"
    }
   ],
   "source": [
    "history.history['accuracy']"
   ]
  },
  {
   "cell_type": "markdown",
   "metadata": {},
   "source": [
    "The code snippet retrieves the training accuracy history from the `history` object, which was obtained after training the neural network model. Here's an interpretation of the code and the output:\n",
    "\n",
    "```python\n",
    "history.history['accuracy']\n",
    "```\n",
    "\n",
    "This line of code accesses the training accuracy history stored in the `history` object.\n",
    "\n",
    "Output:\n",
    "- The output is a list of training accuracy values for each epoch. In this case, all the accuracy values are approximately 0.5104, which indicates that the model's training accuracy remained constant throughout the training process.\n",
    "\n",
    "Interpretation:\n",
    "- The output suggests that the model's training accuracy did not improve significantly over the epochs. The constant accuracy value of approximately 0.5104 indicates that the model may not have learned meaningful patterns from the training data or that there could be issues with the model architecture or training process.\n",
    "- It's essential to analyze other metrics such as validation accuracy and loss to get a comprehensive understanding of the model's performance and to identify potential areas for improvement or debugging."
   ]
  },
  {
   "cell_type": "code",
   "execution_count": 72,
   "metadata": {},
   "outputs": [
    {
     "data": {
      "image/png": "[encoded data removed]",
      "text/plain": [
       "<Figure size 640x480 with 1 Axes>"
      ]
     },
     "metadata": {},
     "output_type": "display_data"
    },
    {
     "data": {
      "image/png": "[encoded data removed]",
      "text/plain": [
       "<Figure size 640x480 with 1 Axes>"
      ]
     },
     "metadata": {},
     "output_type": "display_data"
    }
   ],
   "source": [
    "import matplotlib.pyplot as plt\n",
    "\n",
    "# summarize history for accuracy\n",
    "plt.plot(history.history['accuracy'])\n",
    "plt.plot(history.history['val_accuracy'])\n",
    "plt.title('model accuracy')\n",
    "plt.ylabel('accuracy')\n",
    "plt.xlabel('epoch')\n",
    "plt.legend(['train', 'test'], loc='upper left')\n",
    "plt.show()\n",
    "# summarize history for loss\n",
    "plt.plot(history.history['loss'])\n",
    "plt.plot(history.history['val_loss'])\n",
    "plt.title('model loss')\n",
    "plt.ylabel('loss')\n",
    "plt.xlabel('epoch')\n",
    "plt.legend(['train', 'test'], loc='upper left')\n",
    "plt.show()"
   ]
  },
  {
   "cell_type": "markdown",
   "metadata": {},
   "source": [
    "The code snippet visualizes the training and validation metrics (accuracy and loss) over multiple epochs during the neural network model training process. Here's an interpretation of the code and the output graphs:\n",
    "\n",
    "1. **Model Accuracy Visualization:**\n",
    "   - The first graph shows the model accuracy over epochs for both the training and validation datasets.\n",
    "   - The x-axis represents the epochs, while the y-axis represents the accuracy values.\n",
    "   - The blue line represents the training accuracy, and the orange line represents the validation accuracy.\n",
    "   - If the training accuracy is significantly higher than the validation accuracy, it might indicate overfitting, where the model memorizes the training data but performs poorly on new, unseen data.\n",
    "   - Conversely, if the validation accuracy is close to or higher than the training accuracy, it suggests that the model generalizes well to new data.\n",
    "\n",
    "2. **Model Loss Visualization:**\n",
    "   - The second graph displays the model's loss (error) over epochs for both training and validation datasets.\n",
    "   - Similar to the accuracy graph, the x-axis represents epochs, and the y-axis represents the loss values.\n",
    "   - Lower loss values indicate better model performance, as it signifies that the model's predictions are closer to the actual values.\n",
    "   - The goal during training is to minimize both training and validation loss, ensuring that the model learns meaningful patterns without overfitting.\n",
    "\n",
    "Overall, these visualizations help in monitoring the model's training progress, identifying potential issues like overfitting or underfitting, and making informed decisions to improve the model's performance."
   ]
  },
  {
   "cell_type": "code",
   "execution_count": 73,
   "metadata": {},
   "outputs": [
    {
     "name": "stdout",
     "output_type": "stream",
     "text": [
      "Validation loss: nan\n",
      "Validation accuracy: 0.4897\n",
      "CPU times: total: 62.5 ms\n",
      "Wall time: 169 ms\n"
     ]
    }
   ],
   "source": [
    "%%time\n",
    "\n",
    "# evaluate the model\n",
    "val_loss, val_accuracy = model.evaluate(X_test, y_test, verbose=0)\n",
    "\n",
    "print(f'Validation loss: {val_loss:.4f}')\n",
    "print(f'Validation accuracy: {val_accuracy:.4f}')"
   ]
  },
  {
   "cell_type": "markdown",
   "metadata": {},
   "source": [
    "The code segment uses the `%time` magic command to measure the execution time and evaluates a trained neural network model's performance using a test dataset. However, the output for the validation loss is displayed as \"nan,\" indicating a numerical issue during evaluation, possibly due to invalid operations or numerical instabilities. Despite this, the validation accuracy is reported as approximately 48.97%, showing the model's performance on the test data. The code snippet's purpose is to assess the model's generalization ability on unseen data, but the presence of a \"nan\" loss value suggests potential issues that need investigation, such as model architecture complexities, training procedure adjustments, or data preprocessing anomalies. Addressing these concerns is crucial to ensure meaningful evaluation metrics and enhance the model's overall performance and reliability."
   ]
  },
  {
   "cell_type": "code",
   "execution_count": 74,
   "metadata": {
    "tags": []
   },
   "outputs": [
    {
     "name": "stdout",
     "output_type": "stream",
     "text": [
      "\u001b[1m1/5\u001b[0m \u001b[32m━━━━\u001b[0m\u001b[37m━━━━━━━━━━━━━━━━\u001b[0m \u001b[1m0s\u001b[0m 197ms/step"
     ]
    },
    {
     "name": "stderr",
     "output_type": "stream",
     "text": [
      "C:\\Users\\vadla\\anaconda3\\Lib\\site-packages\\keras\\src\\ops\\nn.py:545: UserWarning: You are using a softmax over axis -1 of a tensor of shape (32, 1). This axis has size 1. The softmax operation will always return the value 1, which is likely not what you intended. Did you mean to use a sigmoid instead?\n",
      "  warnings.warn(\n"
     ]
    },
    {
     "name": "stdout",
     "output_type": "stream",
     "text": [
      "\u001b[1m5/5\u001b[0m \u001b[32m━━━━━━━━━━━━━━━━━━━━\u001b[0m\u001b[37m\u001b[0m \u001b[1m0s\u001b[0m 45ms/step\n"
     ]
    },
    {
     "data": {
      "image/png": "[encoded data removed]",
      "text/plain": [
       "<Figure size 640x480 with 2 Axes>"
      ]
     },
     "metadata": {},
     "output_type": "display_data"
    }
   ],
   "source": [
    "from sklearn.metrics import confusion_matrix, ConfusionMatrixDisplay\n",
    "\n",
    "# display the confusion matrix\n",
    "y_pred = model.predict(X_test).argmax(axis=1)\n",
    "\n",
    "cm = confusion_matrix(y_test, y_pred)\n",
    "disp = ConfusionMatrixDisplay(confusion_matrix=cm)\n",
    "disp.plot(cmap=plt.cm.Blues)\n",
    "plt.show()"
   ]
  },
  {
   "cell_type": "markdown",
   "metadata": {},
   "source": [
    "The code segment imports necessary functions from the scikit-learn library to compute and display a confusion matrix for evaluating a machine learning model's performance. It first predicts the classes for the test data using the model (`model.predict(X_test)`), then extracts the predicted classes' indices with the highest probability using `.argmax(axis=1)`. The confusion matrix is then calculated using the true labels (`y_test`) and the predicted labels (`y_pred`).\n",
    "\n",
    "However, there are several warnings in the output. The first warning indicates that there have been multiple calls to a TensorFlow function (`TensorFlowTrainer.make_predict_function`) triggering retracing, which can be computationally expensive. It suggests possible reasons for this, such as creating TensorFlow functions repeatedly in a loop or passing tensors with different shapes. The warning advises optimizing these aspects to reduce unnecessary retracing.\n",
    "\n",
    "Additionally, there's a UserWarning from Keras about using softmax over an axis with size 1, which may not yield the intended results. It suggests considering a sigmoid function instead of softmax in this context. These warnings highlight areas for potential optimization and correctness improvements in the code and model configuration."
   ]
  },
  {
   "cell_type": "markdown",
   "metadata": {},
   "source": [
    "Based on the information provided, let's summarize and compare the three models discussed:\n",
    "\n",
    "1. **Wide Neural Network Model:**\n",
    "   - Architecture: Includes a wide layer with 10 neurons activated by ReLU.\n",
    "   - Evaluation Results: Validation loss of 0.1783 and validation accuracy of 0.9586.\n",
    "   - Advantages: Effective for capturing broad patterns in the data due to its wide architecture.\n",
    "\n",
    "2. **Deep Neural Network Model:**\n",
    "   - Architecture: Consists of three dense layers with 50 neurons each, activated by ReLU.\n",
    "   - Evaluation Results: No direct results provided, but likely to have higher capacity for learning complex patterns.\n",
    "\n",
    "3. **Combined Wide and Deep Neural Network Model:**\n",
    "   - Architecture: Combines elements from both wide and deep models, featuring normalization, deep layers with ReLU activation, concatenation, and a softmax output layer.\n",
    "   - Evaluation Results: Training results show an accuracy of 51.04% and a high loss, possibly indicating a need for model tuning.\n",
    "\n",
    "In terms of suggestions:\n",
    "\n",
    "- The wide model excels in capturing broad patterns but may lack the depth to learn intricate relationships in the data.\n",
    "- The deep model, with its multiple layers, can learn more complex features but might be prone to overfitting if not regularized properly.\n",
    "- The combined model aims to leverage both wide and deep architectures, but the training results suggest room for improvement, possibly indicating issues with model configuration or training parameters.\n",
    "\n",
    "Considering these aspects, a conclusion could suggest further experimentation with hyperparameters, regularization techniques like dropout or L2 regularization in the deep model, or exploring more sophisticated architectures like convolutional neural networks (CNNs) or recurrent neural networks (RNNs) depending on the nature of the data and the specific task. Additionally, ensembling techniques such as stacking or blending could be explored to leverage the strengths of multiple models and potentially achieve better performance."
   ]
  }
 ],
 "metadata": {
  "colab": {
   "authorship_tag": "ABX9TyOig4eSm144+FaPk1GKk187",
   "collapsed_sections": [],
   "include_colab_link": true,
   "name": "mnist_compete_3_models.ipynb",
   "provenance": []
  },
  "kernelspec": {
   "display_name": "Python 3 (ipykernel)",
   "language": "python",
   "name": "python3"
  },
  "language_info": {
   "codemirror_mode": {
    "name": "ipython",
    "version": 3
   },
   "file_extension": ".py",
   "mimetype": "text/x-python",
   "name": "python",
   "nbconvert_exporter": "python",
   "pygments_lexer": "ipython3",
   "version": "3.11.4"
  },
  "vscode": {
   "interpreter": {
    "hash": "b056086e24cb5602cbcb82122035cd3d6ee2ccbf5df29c16e348c108b0f83be3"
   }
  }
 },
 "nbformat": 4,
 "nbformat_minor": 4
}
