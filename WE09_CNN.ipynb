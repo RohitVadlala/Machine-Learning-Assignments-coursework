{
 "cells": [
  {
   "cell_type": "markdown",
   "id": "8b9a6d7e",
   "metadata": {},
   "source": [
    "# WE09_CNN"
   ]
  },
  {
   "cell_type": "markdown",
   "id": "0a1fb944-c910-4c49-8f63-2c4e600ad904",
   "metadata": {},
   "source": [
    "# Introduction"
   ]
  },
  {
   "cell_type": "raw",
   "id": "41fd2d28",
   "metadata": {},
   "source": [
    "This notebook gives a brief introduction to using TensorFlow to train a neural network to classify apparel items, such shirts and sneakers. This is a quick walkthrough of a whole TensorFlow program, with explanations along the way, so you don't have to understand every detail right now.\n",
    "The high-level TensorFlow model construction and training API tf.keras is what we'll be using in this notebook."
   ]
  },
  {
   "cell_type": "markdown",
   "id": "4001d441",
   "metadata": {},
   "source": [
    "## Import libraries"
   ]
  },
  {
   "cell_type": "code",
   "execution_count": 1,
   "id": "15a37eff",
   "metadata": {},
   "outputs": [],
   "source": [
    "import tensorflow as tf\n",
    "from tensorflow.keras import layers, models\n",
    "from tensorflow.keras.datasets import fashion_mnist\n",
    "from tensorflow.keras.utils import to_categorical\n",
    "\n",
    "import numpy as np\n",
    "import matplotlib.pyplot as plt\n",
    "\n",
    "np.random.seed(1)  # for reproducibility\n"
   ]
  },
  {
   "cell_type": "markdown",
   "id": "e9fd57f2",
   "metadata": {},
   "source": [
    "## Importing the Fashion MNIST dataset"
   ]
  },
  {
   "cell_type": "code",
   "execution_count": 2,
   "id": "21225497",
   "metadata": {},
   "outputs": [],
   "source": [
    "# Load Fashion MNIST dataset\n",
    "(train_images, train_labels), (test_images, test_labels) = fashion_mnist.load_data()"
   ]
  },
  {
   "cell_type": "code",
   "execution_count": 3,
   "id": "5d1618d1",
   "metadata": {},
   "outputs": [],
   "source": [
    "# Since the class names are not included with the dataset, storing them here to use later\n",
    "class_names = ['T-shirt/top', 'Trouser', 'Pullover', 'Dress', 'Coat',\n",
    "               'Sandal', 'Shirt', 'Sneaker', 'Bag', 'Ankle boot']"
   ]
  },
  {
   "cell_type": "markdown",
   "id": "fa53f132",
   "metadata": {},
   "source": [
    "## Exploring data"
   ]
  },
  {
   "cell_type": "code",
   "execution_count": 4,
   "id": "e224c995",
   "metadata": {},
   "outputs": [
    {
     "data": {
      "text/plain": [
       "(60000, 28, 28)"
      ]
     },
     "execution_count": 4,
     "metadata": {},
     "output_type": "execute_result"
    }
   ],
   "source": [
    "train_images.shape"
   ]
  },
  {
   "cell_type": "raw",
   "id": "31bcaa59",
   "metadata": {},
   "source": [
    "The training dataset comprises 60,000 images, each being 28 by 28 pixels in size."
   ]
  },
  {
   "cell_type": "code",
   "execution_count": 5,
   "id": "17e921b6",
   "metadata": {},
   "outputs": [
    {
     "data": {
      "text/plain": [
       "60000"
      ]
     },
     "execution_count": 5,
     "metadata": {},
     "output_type": "execute_result"
    }
   ],
   "source": [
    "len(train_labels)"
   ]
  },
  {
   "cell_type": "code",
   "execution_count": 6,
   "id": "97e5c933",
   "metadata": {},
   "outputs": [
    {
     "data": {
      "text/plain": [
       "array([9, 0, 0, ..., 3, 0, 5], dtype=uint8)"
      ]
     },
     "execution_count": 6,
     "metadata": {},
     "output_type": "execute_result"
    }
   ],
   "source": [
    "train_labels"
   ]
  },
  {
   "cell_type": "raw",
   "id": "03249e5e",
   "metadata": {},
   "source": [
    "Each label is an integer which are in the range between 0 and 9"
   ]
  },
  {
   "cell_type": "code",
   "execution_count": 7,
   "id": "45c9e5ac",
   "metadata": {},
   "outputs": [
    {
     "data": {
      "text/plain": [
       "(10000, 28, 28)"
      ]
     },
     "execution_count": 7,
     "metadata": {},
     "output_type": "execute_result"
    }
   ],
   "source": [
    "test_images.shape"
   ]
  },
  {
   "cell_type": "raw",
   "id": "cc584995",
   "metadata": {},
   "source": [
    "The test set consists of 10,000 images, with each image having dimensions of 28 x 28 pixels."
   ]
  },
  {
   "cell_type": "code",
   "execution_count": 8,
   "id": "80951a9f",
   "metadata": {},
   "outputs": [
    {
     "data": {
      "text/plain": [
       "10000"
      ]
     },
     "execution_count": 8,
     "metadata": {},
     "output_type": "execute_result"
    }
   ],
   "source": [
    "len(test_labels)"
   ]
  },
  {
   "cell_type": "raw",
   "id": "1c000c22",
   "metadata": {},
   "source": [
    "Test set consists of 10,000 images labels"
   ]
  },
  {
   "cell_type": "markdown",
   "id": "9b540ff4",
   "metadata": {},
   "source": [
    "## Preprocessing the data"
   ]
  },
  {
   "cell_type": "code",
   "execution_count": 9,
   "id": "72f041d8",
   "metadata": {},
   "outputs": [
    {
     "data": {
      "image/png": "[encoded data removed]",
      "text/plain": [
       "<Figure size 640x480 with 2 Axes>"
      ]
     },
     "metadata": {},
     "output_type": "display_data"
    }
   ],
   "source": [
    "plt.figure()\n",
    "plt.imshow(train_images[0])\n",
    "plt.colorbar()\n",
    "plt.grid(False)\n",
    "plt.show()"
   ]
  },
  {
   "cell_type": "raw",
   "id": "43e7d399",
   "metadata": {},
   "source": [
    "To prepare the first image in the training set for the model, its pixel values, which range from 0 to 255, must be normalized to a range between 0 and 1. This normalization is done by dividing each pixel value by 255."
   ]
  },
  {
   "cell_type": "code",
   "execution_count": 10,
   "id": "6ab93519",
   "metadata": {},
   "outputs": [],
   "source": [
    "# Preprocess the data\n",
    "train_images = train_images.reshape((train_images.shape[0], 28, 28, 1)).astype('float32') / 255\n",
    "test_images = test_images.reshape((test_images.shape[0], 28, 28, 1)).astype('float32') / 255\n"
   ]
  },
  {
   "cell_type": "markdown",
   "id": "66298c2e-f343-4c19-af8f-7b64c01e2aea",
   "metadata": {},
   "source": [
    "This code reshapes the `train_images` and `test_images` arrays to have a fourth dimension, making them suitable for a model that expects input with four dimensions (such as a convolutional neural network). Specifically, each image is reshaped from 28x28 pixels to 28x28x1, where 1 represents a single color channel (grayscale). The pixel values are then converted to `float32` for precision and normalized by dividing by 255, scaling them to a range between 0 and 1. This normalization is a common preprocessing step to help the model learn more efficiently."
   ]
  },
  {
   "cell_type": "code",
   "execution_count": 11,
   "id": "affb8fe2",
   "metadata": {},
   "outputs": [
    {
     "data": {
      "image/png": "[encoded data removed]",
      "text/plain": [
       "<Figure size 1000x1000 with 25 Axes>"
      ]
     },
     "metadata": {},
     "output_type": "display_data"
    }
   ],
   "source": [
    "plt.figure(figsize=(10,10))\n",
    "for i in range(25):\n",
    "    plt.subplot(5,5,i+1)\n",
    "    plt.xticks([])\n",
    "    plt.yticks([])\n",
    "    plt.grid(False)\n",
    "    plt.imshow(train_images[i], cmap=plt.cm.binary)\n",
    "    plt.xlabel(class_names[train_labels[i]])\n",
    "plt.show()"
   ]
  },
  {
   "cell_type": "markdown",
   "id": "434ae864-5ce3-49af-8469-d63336297cfd",
   "metadata": {},
   "source": [
    "This code generates a 10x10 inch figure and displays the first 25 images from `train_images` in a 5x5 grid. Each image is shown without axis ticks and grid lines, using a grayscale color map. Below each image, the corresponding label from `class_names`, indexed by `train_labels`, is displayed as text. This visualization helps to inspect the training images along with their labels, providing a quick overview of the dataset's content."
   ]
  },
  {
   "cell_type": "code",
   "execution_count": 12,
   "id": "6ca59d57",
   "metadata": {},
   "outputs": [],
   "source": [
    "train_labels = to_categorical(train_labels)\n",
    "test_labels = to_categorical(test_labels)"
   ]
  },
  {
   "cell_type": "markdown",
   "id": "05cdc800-a4cf-4985-be16-29697a5ce413",
   "metadata": {},
   "source": [
    "This code converts the `train_labels` and `test_labels` into one-hot encoded vectors using the `to_categorical` function. One-hot encoding transforms integer labels into a binary matrix representation, which is necessary for multi-class classification tasks in machine learning models, allowing them to predict the probability of each class more effectively."
   ]
  },
  {
   "cell_type": "markdown",
   "id": "9709d5b7",
   "metadata": {},
   "source": [
    "## Building the Model"
   ]
  },
  {
   "cell_type": "code",
   "execution_count": 13,
   "id": "2d9d51c2",
   "metadata": {},
   "outputs": [
    {
     "name": "stderr",
     "output_type": "stream",
     "text": [
      "C:\\Users\\vadla\\anaconda3\\Lib\\site-packages\\keras\\src\\layers\\convolutional\\base_conv.py:99: UserWarning: Do not pass an `input_shape`/`input_dim` argument to a layer. When using Sequential models, prefer using an `Input(shape)` object as the first layer in the model instead.\n",
      "  super().__init__(\n"
     ]
    }
   ],
   "source": [
    "# Build the CNN model by max-pooling layers\n",
    "model = models.Sequential()\n",
    "model.add(layers.Conv2D(32, (3, 3), activation='relu', input_shape=(28, 28, 1)))\n",
    "model.add(layers.MaxPooling2D((2, 2)))\n",
    "model.add(layers.Conv2D(64, (3, 3), activation='relu'))\n",
    "model.add(layers.MaxPooling2D((2, 2)))\n",
    "model.add(layers.Conv2D(64, (3, 3), activation='relu'))\n",
    "model.add(layers.Flatten())\n",
    "model.add(layers.Dense(64, activation='relu'))\n",
    "model.add(layers.Dense(10, activation='softmax'))"
   ]
  },
  {
   "cell_type": "markdown",
   "id": "d8b21768-d746-42d5-ac64-60b2e12783b0",
   "metadata": {},
   "source": [
    "The code defines a Convolutional Neural Network (CNN) model using a sequential approach. Initially, it sets up a 2D convolutional layer with 32 filters and a kernel size of 3x3, applying the ReLU activation function, designed for processing 28x28 pixel images with a single color channel. This is followed by a max-pooling layer to reduce the dimensionality. The model then includes two more convolutional layers, each with 64 filters and ReLU activation, interspersed with max-pooling layers for further spatial reduction. After the convolutional and pooling layers, the network flattens the output to a single vector, which feeds into a dense layer of 64 neurons with ReLU activation. The architecture concludes with a 10-neuron dense layer using softmax activation, predicting the class probabilities for each of the 10 possible categories."
   ]
  },
  {
   "cell_type": "code",
   "execution_count": 14,
   "id": "9f4d2273",
   "metadata": {},
   "outputs": [],
   "source": [
    "# Compile the model\n",
    "model.compile(optimizer='adam',\n",
    "              loss='categorical_crossentropy',\n",
    "              metrics=['accuracy'])"
   ]
  },
  {
   "cell_type": "markdown",
   "id": "0557118b-be24-404b-ba57-ccc09a895514",
   "metadata": {},
   "source": [
    "This code compiles the CNN model, setting 'adam' as the optimizer, 'categorical_crossentropy' as the loss function, and tracking 'accuracy' as the performance metric. This setup optimizes the model's parameters during training to minimize the loss function, aiming to improve classification accuracy."
   ]
  },
  {
   "cell_type": "code",
   "execution_count": 15,
   "id": "01b0c255",
   "metadata": {},
   "outputs": [
    {
     "name": "stdout",
     "output_type": "stream",
     "text": [
      "Epoch 1/10\n",
      "\u001b[1m938/938\u001b[0m \u001b[32m━━━━━━━━━━━━━━━━━━━━\u001b[0m\u001b[37m\u001b[0m \u001b[1m10s\u001b[0m 8ms/step - accuracy: 0.7156 - loss: 0.7730 - val_accuracy: 0.8587 - val_loss: 0.3955\n",
      "Epoch 2/10\n",
      "\u001b[1m938/938\u001b[0m \u001b[32m━━━━━━━━━━━━━━━━━━━━\u001b[0m\u001b[37m\u001b[0m \u001b[1m7s\u001b[0m 8ms/step - accuracy: 0.8714 - loss: 0.3613 - val_accuracy: 0.8784 - val_loss: 0.3353\n",
      "Epoch 3/10\n",
      "\u001b[1m938/938\u001b[0m \u001b[32m━━━━━━━━━━━━━━━━━━━━\u001b[0m\u001b[37m\u001b[0m \u001b[1m9s\u001b[0m 10ms/step - accuracy: 0.8873 - loss: 0.3055 - val_accuracy: 0.8855 - val_loss: 0.3104\n",
      "Epoch 4/10\n",
      "\u001b[1m938/938\u001b[0m \u001b[32m━━━━━━━━━━━━━━━━━━━━\u001b[0m\u001b[37m\u001b[0m \u001b[1m11s\u001b[0m 12ms/step - accuracy: 0.9027 - loss: 0.2679 - val_accuracy: 0.8900 - val_loss: 0.3024\n",
      "Epoch 5/10\n",
      "\u001b[1m938/938\u001b[0m \u001b[32m━━━━━━━━━━━━━━━━━━━━\u001b[0m\u001b[37m\u001b[0m \u001b[1m11s\u001b[0m 11ms/step - accuracy: 0.9123 - loss: 0.2411 - val_accuracy: 0.8953 - val_loss: 0.2860\n",
      "Epoch 6/10\n",
      "\u001b[1m938/938\u001b[0m \u001b[32m━━━━━━━━━━━━━━━━━━━━\u001b[0m\u001b[37m\u001b[0m \u001b[1m11s\u001b[0m 11ms/step - accuracy: 0.9196 - loss: 0.2189 - val_accuracy: 0.9040 - val_loss: 0.2744\n",
      "Epoch 7/10\n",
      "\u001b[1m938/938\u001b[0m \u001b[32m━━━━━━━━━━━━━━━━━━━━\u001b[0m\u001b[37m\u001b[0m \u001b[1m11s\u001b[0m 11ms/step - accuracy: 0.9269 - loss: 0.1965 - val_accuracy: 0.9057 - val_loss: 0.2732\n",
      "Epoch 8/10\n",
      "\u001b[1m938/938\u001b[0m \u001b[32m━━━━━━━━━━━━━━━━━━━━\u001b[0m\u001b[37m\u001b[0m \u001b[1m10s\u001b[0m 11ms/step - accuracy: 0.9307 - loss: 0.1843 - val_accuracy: 0.9047 - val_loss: 0.2760\n",
      "Epoch 9/10\n",
      "\u001b[1m938/938\u001b[0m \u001b[32m━━━━━━━━━━━━━━━━━━━━\u001b[0m\u001b[37m\u001b[0m \u001b[1m11s\u001b[0m 12ms/step - accuracy: 0.9367 - loss: 0.1670 - val_accuracy: 0.9068 - val_loss: 0.2646\n",
      "Epoch 10/10\n",
      "\u001b[1m938/938\u001b[0m \u001b[32m━━━━━━━━━━━━━━━━━━━━\u001b[0m\u001b[37m\u001b[0m \u001b[1m12s\u001b[0m 12ms/step - accuracy: 0.9438 - loss: 0.1534 - val_accuracy: 0.9107 - val_loss: 0.2780\n"
     ]
    }
   ],
   "source": [
    "# Train the model\n",
    "history = model.fit(train_images, train_labels, epochs=10, batch_size=64, validation_data=(test_images, test_labels))"
   ]
  },
  {
   "cell_type": "markdown",
   "id": "f04e53d9-c44b-4a67-acb5-09ad02643205",
   "metadata": {},
   "source": [
    "This code trains the CNN model using the training data (`train_images` and `train_labels`) for 10 epochs with a batch size of 64. During training, it also evaluates the model on the test dataset (`test_images` and `test_labels`) to monitor its performance on unseen data. The training process adjusts the model's weights to minimize the loss on the training data, while the validation data helps assess the model's generalization ability. The `history` object captures the training and validation metrics over each epoch, useful for analyzing the model's learning progress."
   ]
  },
  {
   "cell_type": "markdown",
   "id": "134bca50",
   "metadata": {},
   "source": [
    "## Evaluate the model"
   ]
  },
  {
   "cell_type": "code",
   "execution_count": 16,
   "id": "c100e57e",
   "metadata": {},
   "outputs": [
    {
     "name": "stdout",
     "output_type": "stream",
     "text": [
      "\u001b[1m313/313\u001b[0m \u001b[32m━━━━━━━━━━━━━━━━━━━━\u001b[0m\u001b[37m\u001b[0m \u001b[1m1s\u001b[0m 3ms/step - accuracy: 0.9081 - loss: 0.2938\n",
      "Test accuracy: 0.9107000231742859\n"
     ]
    }
   ],
   "source": [
    "test_loss, test_acc = model.evaluate(test_images, test_labels)\n",
    "print('Test accuracy:', test_acc)"
   ]
  },
  {
   "cell_type": "code",
   "execution_count": 17,
   "id": "6aa9b37f",
   "metadata": {},
   "outputs": [
    {
     "name": "stdout",
     "output_type": "stream",
     "text": [
      "\u001b[1m1875/1875\u001b[0m \u001b[32m━━━━━━━━━━━━━━━━━━━━\u001b[0m\u001b[37m\u001b[0m \u001b[1m5s\u001b[0m 3ms/step - accuracy: 0.9492 - loss: 0.1338\n",
      "Train accuracy: 0.9497166872024536\n"
     ]
    }
   ],
   "source": [
    "train_loss, train_acc = model.evaluate(train_images, train_labels)\n",
    "print('Train accuracy:', train_acc)"
   ]
  },
  {
   "cell_type": "raw",
   "id": "3c8e42e8",
   "metadata": {},
   "source": [
    "This code evaluates the trained CNN model's performance on the test and training datasets. First, it computes the loss and accuracy on the test dataset using `model.evaluate(test_images, test_labels)`, which results in a test accuracy of approximately 91.07%. Then, it evaluates the model on the training dataset using `model.evaluate(train_images, train_labels)`, obtaining a higher training accuracy of about 94.97%. These evaluations help assess how well the model generalizes to new, unseen data (test accuracy) and how well it has learned from the training data (training accuracy).\n",
    "\n",
    "Output:\n",
    "- Test accuracy: 91.07%\n",
    "- Train accuracy: 94.97%\n",
    "The test dataset's accuracy is slightly lower than that of the training dataset, indicating overfitting, where the model performs better on the training data than on unseen test data."
   ]
  },
  {
   "cell_type": "markdown",
   "id": "56f1a190",
   "metadata": {},
   "source": [
    "## Making predictions"
   ]
  },
  {
   "cell_type": "code",
   "execution_count": 18,
   "id": "7c9db909",
   "metadata": {},
   "outputs": [
    {
     "name": "stdout",
     "output_type": "stream",
     "text": [
      "\u001b[1m313/313\u001b[0m \u001b[32m━━━━━━━━━━━━━━━━━━━━\u001b[0m\u001b[37m\u001b[0m \u001b[1m1s\u001b[0m 4ms/step\n"
     ]
    }
   ],
   "source": [
    "# Make predictions\n",
    "predictions = model.predict(test_images)\n",
    "\n",
    "# Convert predictions to class labels\n",
    "predicted_labels = np.argmax(predictions, axis=1)\n",
    "\n"
   ]
  },
  {
   "cell_type": "raw",
   "id": "7bb5eef3",
   "metadata": {},
   "source": [
    "Display the predicted class and actual class for the first 10 images in the test set."
   ]
  },
  {
   "cell_type": "markdown",
   "id": "2431d883",
   "metadata": {},
   "source": [
    "## Verify predictions"
   ]
  },
  {
   "cell_type": "code",
   "execution_count": 19,
   "id": "dd989428",
   "metadata": {},
   "outputs": [],
   "source": [
    "#Defining functions to graph the full set of 10 class predictions\n",
    "def plot_image(i, predictions_array, true_labels, images):\n",
    "    predictions_array, true_label, img = predictions_array[i], np.argmax(true_labels[i]), images[i]\n",
    "    plt.grid(False)\n",
    "    plt.xticks([])\n",
    "    plt.yticks([])\n",
    "\n",
    "    plt.imshow(img, cmap=plt.cm.binary)\n",
    "\n",
    "    predicted_label = np.argmax(predictions_array)\n",
    "    if predicted_label == true_label:\n",
    "        color = 'blue'\n",
    "    else:\n",
    "        color = 'red'\n",
    "\n",
    "    plt.xlabel(\"{} {:2.0f}% ({})\".format(class_names[predicted_label],\n",
    "                                100*np.max(predictions_array),\n",
    "                                class_names[true_label]),\n",
    "                                color=color)\n",
    "\n",
    "def plot_value_array(i, predictions_array, true_label):\n",
    "    predictions_array, true_label = predictions_array[i], np.argmax(true_label[i])\n",
    "    plt.grid(False)\n",
    "    plt.xticks(range(10))\n",
    "    plt.yticks([])\n",
    "    thisplot = plt.bar(range(10), predictions_array, color=\"#777777\")\n",
    "    plt.ylim([0, 1])\n",
    "    predicted_label = np.argmax(predictions_array)\n",
    "\n",
    "    thisplot[predicted_label].set_color('red')\n",
    "    thisplot[true_label].set_color('blue')\n",
    "\n"
   ]
  },
  {
   "cell_type": "markdown",
   "id": "8546a5d9-76cf-4268-8c98-f3bf49b4f470",
   "metadata": {},
   "source": [
    "These functions are used to plot visualizations for the predicted and actual labels of images. The `plot_image` function displays an image (`img`) along with its predicted label's probability distribution (`predictions_array`) and the actual label (`true_label`). If the prediction matches the true label, the label is shown in blue; otherwise, it's shown in red. The `plot_value_array` function plots a bar chart of the prediction probabilities for each class, highlighting the predicted and true labels in red and blue, respectively."
   ]
  },
  {
   "cell_type": "code",
   "execution_count": 20,
   "id": "64540ec9",
   "metadata": {},
   "outputs": [
    {
     "data": {
      "image/png": "[encoded data removed]",
      "text/plain": [
       "<Figure size 600x300 with 2 Axes>"
      ]
     },
     "metadata": {},
     "output_type": "display_data"
    }
   ],
   "source": [
    "i = 0\n",
    "plt.figure(figsize=(6,3))\n",
    "plt.subplot(1,2,1)\n",
    "plot_image(i, predictions, test_labels, test_images)\n",
    "plt.subplot(1,2,2)\n",
    "plot_value_array(i, predictions,  test_labels)\n",
    "plt.show()"
   ]
  },
  {
   "cell_type": "raw",
   "id": "f2a6f3ee",
   "metadata": {},
   "source": [
    "The code visualizes the predictions for the 0th image, displaying a blue bar because the prediction matches the actual label. The number on the bar represents the predicted label's percentage confidence (out of 100). This indicates that the model made a correct prediction for this image."
   ]
  },
  {
   "cell_type": "code",
   "execution_count": 21,
   "id": "40393b65",
   "metadata": {},
   "outputs": [
    {
     "data": {
      "image/png": "[encoded data removed]",
      "text/plain": [
       "<Figure size 600x300 with 2 Axes>"
      ]
     },
     "metadata": {},
     "output_type": "display_data"
    }
   ],
   "source": [
    "i = 9898\n",
    "plt.figure(figsize=(6,3))\n",
    "plt.subplot(1,2,1)\n",
    "plot_image(i, predictions, test_labels, test_images)\n",
    "plt.subplot(1,2,2)\n",
    "plot_value_array(i, predictions,  test_labels)\n",
    "plt.show()"
   ]
  },
  {
   "cell_type": "raw",
   "id": "67f4e579",
   "metadata": {},
   "source": [
    "In the scenario described, the `predicted_label` is equal to the `true_label` because `argmax()` selects the maximum value, resulting in a blue bar in the graph. The number on the bar represents the predicted label's confidence percentage (out of 100). This indicates that the model made a correct prediction for the 0th image."
   ]
  },
  {
   "cell_type": "markdown",
   "id": "e2b21398",
   "metadata": {},
   "source": [
    "## Summary"
   ]
  },
  {
   "cell_type": "raw",
   "id": "e4fef1aa",
   "metadata": {},
   "source": [
    "The visualization functions play a crucial role in interpreting the predictions of a convolutional neural network trained on the Fashion MNIST dataset. They provide a visual representation of individual image predictions along with their confidence scores, offering insights into the model's performance strengths and weaknesses. This visual feedback helps us understand where the model excels, accurately predicting labels, and where it may struggle, as indicated by lower confidence scores or misclassifications. Such insights are valuable for fine-tuning the model and improving its overall performance."
   ]
  }
 ],
 "metadata": {
  "kernelspec": {
   "display_name": "Python 3 (ipykernel)",
   "language": "python",
   "name": "python3"
  },
  "language_info": {
   "codemirror_mode": {
    "name": "ipython",
    "version": 3
   },
   "file_extension": ".py",
   "mimetype": "text/x-python",
   "name": "python",
   "nbconvert_exporter": "python",
   "pygments_lexer": "ipython3",
   "version": "3.11.4"
  },
  "toc": {
   "base_numbering": 1,
   "nav_menu": {},
   "number_sections": true,
   "sideBar": true,
   "skip_h1_title": false,
   "title_cell": "Table of Contents",
   "title_sidebar": "Contents",
   "toc_cell": false,
   "toc_position": {},
   "toc_section_display": true,
   "toc_window_display": false
  }
 },
 "nbformat": 4,
 "nbformat_minor": 5
}
